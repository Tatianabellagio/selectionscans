{
 "cells": [
  {
   "cell_type": "code",
   "execution_count": 13,
   "id": "3d7aed6e-92d5-43fd-95cf-f716ea3b5f9c",
   "metadata": {},
   "outputs": [],
   "source": [
    "import pandas as pd\n",
    "import xarray as xr\n",
    "import os\n",
    "import subprocess\n",
    "import seaborn as sns\n",
    "import matplotlib.pyplot as plt\n",
    "\n",
    "import allel\n",
    "\n",
    "import rasterio\n",
    "import pandas as pd\n",
    "import zipfile\n",
    "import os\n",
    "import numpy as np\n"
   ]
  },
  {
   "cell_type": "markdown",
   "id": "1ebc267a-d85e-4f4d-8e9b-6761be56cf94",
   "metadata": {},
   "source": [
    "worldclim has monthly data for different periods\n",
    "https://www.worldclim.org/data/monthlywth.html\n",
    "the granularity is not great, but it is the easiest way to get climate data\n"
   ]
  },
  {
   "cell_type": "code",
   "execution_count": null,
   "id": "e7720d79-bcd1-44c6-91c4-5d417c478fe2",
   "metadata": {},
   "outputs": [],
   "source": []
  },
  {
   "cell_type": "code",
   "execution_count": 5,
   "id": "6135d517-037c-4125-92a5-a96c41abbc60",
   "metadata": {},
   "outputs": [],
   "source": [
    "accessions = pd.read_csv('../meta_filtered_clusters.csv')"
   ]
  },
  {
   "cell_type": "code",
   "execution_count": 6,
   "id": "6a7c7952-3ef6-44d7-99d4-fafadfaa33c8",
   "metadata": {},
   "outputs": [
    {
     "data": {
      "text/html": [
       "<div>\n",
       "<style scoped>\n",
       "    .dataframe tbody tr th:only-of-type {\n",
       "        vertical-align: middle;\n",
       "    }\n",
       "\n",
       "    .dataframe tbody tr th {\n",
       "        vertical-align: top;\n",
       "    }\n",
       "\n",
       "    .dataframe thead th {\n",
       "        text-align: right;\n",
       "    }\n",
       "</style>\n",
       "<table border=\"1\" class=\"dataframe\">\n",
       "  <thead>\n",
       "    <tr style=\"text-align: right;\">\n",
       "      <th></th>\n",
       "      <th>accession</th>\n",
       "      <th>year</th>\n",
       "      <th>lat</th>\n",
       "      <th>lon</th>\n",
       "      <th>country</th>\n",
       "      <th>type</th>\n",
       "      <th>cluster</th>\n",
       "    </tr>\n",
       "  </thead>\n",
       "  <tbody>\n",
       "    <tr>\n",
       "      <th>0</th>\n",
       "      <td>PL0012</td>\n",
       "      <td>1881.0</td>\n",
       "      <td>55.69076</td>\n",
       "      <td>13.165520</td>\n",
       "      <td>SWE</td>\n",
       "      <td>historical</td>\n",
       "      <td>Scandinavia</td>\n",
       "    </tr>\n",
       "    <tr>\n",
       "      <th>1</th>\n",
       "      <td>PL0109</td>\n",
       "      <td>1881.0</td>\n",
       "      <td>56.18390</td>\n",
       "      <td>15.609250</td>\n",
       "      <td>SWE</td>\n",
       "      <td>historical</td>\n",
       "      <td>Scandinavia</td>\n",
       "    </tr>\n",
       "    <tr>\n",
       "      <th>2</th>\n",
       "      <td>PL0119</td>\n",
       "      <td>1884.0</td>\n",
       "      <td>55.54033</td>\n",
       "      <td>13.271690</td>\n",
       "      <td>SWE</td>\n",
       "      <td>historical</td>\n",
       "      <td>Scandinavia</td>\n",
       "    </tr>\n",
       "    <tr>\n",
       "      <th>3</th>\n",
       "      <td>PL0103</td>\n",
       "      <td>1889.0</td>\n",
       "      <td>55.56733</td>\n",
       "      <td>12.966290</td>\n",
       "      <td>SWE</td>\n",
       "      <td>historical</td>\n",
       "      <td>Scandinavia</td>\n",
       "    </tr>\n",
       "    <tr>\n",
       "      <th>4</th>\n",
       "      <td>LND0702ad</td>\n",
       "      <td>1891.0</td>\n",
       "      <td>57.93100</td>\n",
       "      <td>12.532180</td>\n",
       "      <td>SWE</td>\n",
       "      <td>historical</td>\n",
       "      <td>Scandinavia</td>\n",
       "    </tr>\n",
       "    <tr>\n",
       "      <th>...</th>\n",
       "      <td>...</td>\n",
       "      <td>...</td>\n",
       "      <td>...</td>\n",
       "      <td>...</td>\n",
       "      <td>...</td>\n",
       "      <td>...</td>\n",
       "      <td>...</td>\n",
       "    </tr>\n",
       "    <tr>\n",
       "      <th>373</th>\n",
       "      <td>9997</td>\n",
       "      <td>1999.0</td>\n",
       "      <td>48.56000</td>\n",
       "      <td>9.160000</td>\n",
       "      <td>GER</td>\n",
       "      <td>modern</td>\n",
       "      <td>CentralEurope</td>\n",
       "    </tr>\n",
       "    <tr>\n",
       "      <th>374</th>\n",
       "      <td>9999</td>\n",
       "      <td>1999.0</td>\n",
       "      <td>48.53000</td>\n",
       "      <td>9.060000</td>\n",
       "      <td>GER</td>\n",
       "      <td>modern</td>\n",
       "      <td>CentralEurope</td>\n",
       "    </tr>\n",
       "    <tr>\n",
       "      <th>375</th>\n",
       "      <td>10001</td>\n",
       "      <td>1999.0</td>\n",
       "      <td>48.52000</td>\n",
       "      <td>9.050000</td>\n",
       "      <td>GER</td>\n",
       "      <td>modern</td>\n",
       "      <td>CentralEurope</td>\n",
       "    </tr>\n",
       "    <tr>\n",
       "      <th>376</th>\n",
       "      <td>10022</td>\n",
       "      <td>1999.0</td>\n",
       "      <td>48.03330</td>\n",
       "      <td>7.766700</td>\n",
       "      <td>GER</td>\n",
       "      <td>modern</td>\n",
       "      <td>CentralEurope</td>\n",
       "    </tr>\n",
       "    <tr>\n",
       "      <th>377</th>\n",
       "      <td>10027</td>\n",
       "      <td>2005.0</td>\n",
       "      <td>48.02838</td>\n",
       "      <td>7.765567</td>\n",
       "      <td>GER</td>\n",
       "      <td>modern</td>\n",
       "      <td>CentralEurope</td>\n",
       "    </tr>\n",
       "  </tbody>\n",
       "</table>\n",
       "<p>378 rows × 7 columns</p>\n",
       "</div>"
      ],
      "text/plain": [
       "     accession    year       lat        lon country        type        cluster\n",
       "0       PL0012  1881.0  55.69076  13.165520     SWE  historical    Scandinavia\n",
       "1       PL0109  1881.0  56.18390  15.609250     SWE  historical    Scandinavia\n",
       "2       PL0119  1884.0  55.54033  13.271690     SWE  historical    Scandinavia\n",
       "3       PL0103  1889.0  55.56733  12.966290     SWE  historical    Scandinavia\n",
       "4    LND0702ad  1891.0  57.93100  12.532180     SWE  historical    Scandinavia\n",
       "..         ...     ...       ...        ...     ...         ...            ...\n",
       "373       9997  1999.0  48.56000   9.160000     GER      modern  CentralEurope\n",
       "374       9999  1999.0  48.53000   9.060000     GER      modern  CentralEurope\n",
       "375      10001  1999.0  48.52000   9.050000     GER      modern  CentralEurope\n",
       "376      10022  1999.0  48.03330   7.766700     GER      modern  CentralEurope\n",
       "377      10027  2005.0  48.02838   7.765567     GER      modern  CentralEurope\n",
       "\n",
       "[378 rows x 7 columns]"
      ]
     },
     "execution_count": 6,
     "metadata": {},
     "output_type": "execute_result"
    }
   ],
   "source": [
    "accessions"
   ]
  },
  {
   "cell_type": "code",
   "execution_count": null,
   "id": "1c945110-33e1-4a7d-bfa2-a7841979645b",
   "metadata": {},
   "outputs": [],
   "source": []
  },
  {
   "cell_type": "code",
   "execution_count": 2,
   "id": "1c98d3bd-5a2f-4674-9b3f-5db04ac03d54",
   "metadata": {},
   "outputs": [
    {
     "data": {
      "text/plain": [
       "['wc2.1_cruts4.09_2.5m_tmin_1970-1979.zip',\n",
       " 'wc2.1_cruts4.09_2.5m_prec_1970-1979.zip',\n",
       " 'wc2.1_cruts4.09_2.5m_tmax_1990-1999.zip',\n",
       " 'wc2.1_cruts4.09_2.5m_tmin_1990-1999.zip',\n",
       " 'wc2.1_cruts4.09_2.5m_prec_1990-1999.zip',\n",
       " 'wc2.1_cruts4.09_2.5m_tmax_1970-1979.zip']"
      ]
     },
     "execution_count": 2,
     "metadata": {},
     "output_type": "execute_result"
    }
   ],
   "source": [
    "os.listdir('wc/')"
   ]
  },
  {
   "cell_type": "code",
   "execution_count": 28,
   "id": "7fced7e9-1306-48ed-85c9-f65b797b693a",
   "metadata": {},
   "outputs": [],
   "source": [
    "import tempfile\n",
    "import shutil\n",
    "\n",
    "def read_raster_from_zip(zip_path):\n",
    "    with zipfile.ZipFile(zip_path, 'r') as z:\n",
    "        tif_file = [f for f in z.namelist() if f.endswith('.tif')][0]\n",
    "        with tempfile.TemporaryDirectory() as tmpdir:\n",
    "            extracted_path = z.extract(tif_file, path=tmpdir)\n",
    "            with rasterio.open(extracted_path) as src:\n",
    "                data = src.read(1)\n",
    "                transform = src.transform\n",
    "                crs = src.crs\n",
    "            return data, transform, crs\n"
   ]
  },
  {
   "cell_type": "code",
   "execution_count": 29,
   "id": "430d95ac-6ab1-46b4-b84a-3dc608dc2474",
   "metadata": {},
   "outputs": [],
   "source": [
    "def extract_value(data, transform, lon, lat):\n",
    "    row, col = ~transform * (lon, lat)\n",
    "    row, col = int(row), int(col)\n",
    "    if 0 <= row < data.shape[0] and 0 <= col < data.shape[1]:\n",
    "        return data[row, col]\n",
    "    else:\n",
    "        return np.nan\n"
   ]
  },
  {
   "cell_type": "code",
   "execution_count": 30,
   "id": "1dd4f5cd-5a3a-4026-8b0b-02f6a96e4e28",
   "metadata": {},
   "outputs": [],
   "source": [
    "# Load accessions\n",
    "accessions = pd.read_csv('../meta_filtered_clusters.csv')\n",
    "\n",
    "# Map for each variable and time window\n",
    "file_map = {\n",
    "    ('historical', 'tmin'): 'wc/wc2.1_cruts4.09_2.5m_tmin_1970-1979.zip',\n",
    "    ('historical', 'tmax'): 'wc/wc2.1_cruts4.09_2.5m_tmax_1970-1979.zip',\n",
    "    ('historical', 'prec'): 'wc/wc2.1_cruts4.09_2.5m_prec_1970-1979.zip',\n",
    "    ('modern', 'tmin'): 'wc/wc2.1_cruts4.09_2.5m_tmin_1990-1999.zip',\n",
    "    ('modern', 'tmax'): 'wc/wc2.1_cruts4.09_2.5m_tmax_1990-1999.zip',\n",
    "    ('modern', 'prec'): 'wc/wc2.1_cruts4.09_2.5m_prec_1990-1999.zip'\n",
    "}"
   ]
  },
  {
   "cell_type": "code",
   "execution_count": 19,
   "id": "c16ca7ec-a086-4b4a-8e66-1dd6a0eca366",
   "metadata": {},
   "outputs": [],
   "source": [
    "results = []\n",
    "\n",
    "for idx, row in accessions.iterrows():\n",
    "    acc = row['accession']\n",
    "    lat = row['lat']\n",
    "    lon = row['lon']\n",
    "    sample_type = row['type']\n",
    "\n",
    "    # Extract each variable\n",
    "    vals = {'accession': acc}\n",
    "    for var in ['tmin', 'tmax', 'prec']:\n",
    "        zip_path = file_map[(sample_type, var)]\n",
    "        data, transform, crs = read_raster_from_zip(zip_path)\n",
    "        val = extract_value(data, transform, lon, lat)\n",
    "        vals[f'{var}_{sample_type}'] = val\n",
    "    results.append(vals)\n",
    "\n",
    "climate_df = pd.DataFrame(results)"
   ]
  },
  {
   "cell_type": "code",
   "execution_count": 20,
   "id": "11a16c3a-6b3f-4619-b402-c614abdab005",
   "metadata": {},
   "outputs": [
    {
     "data": {
      "text/html": [
       "<div>\n",
       "<style scoped>\n",
       "    .dataframe tbody tr th:only-of-type {\n",
       "        vertical-align: middle;\n",
       "    }\n",
       "\n",
       "    .dataframe tbody tr th {\n",
       "        vertical-align: top;\n",
       "    }\n",
       "\n",
       "    .dataframe thead th {\n",
       "        text-align: right;\n",
       "    }\n",
       "</style>\n",
       "<table border=\"1\" class=\"dataframe\">\n",
       "  <thead>\n",
       "    <tr style=\"text-align: right;\">\n",
       "      <th></th>\n",
       "      <th>accession</th>\n",
       "      <th>tmin_historical</th>\n",
       "      <th>tmax_historical</th>\n",
       "      <th>prec_historical</th>\n",
       "      <th>tmin_modern</th>\n",
       "      <th>tmax_modern</th>\n",
       "      <th>prec_modern</th>\n",
       "    </tr>\n",
       "  </thead>\n",
       "  <tbody>\n",
       "    <tr>\n",
       "      <th>0</th>\n",
       "      <td>PL0012</td>\n",
       "      <td>NaN</td>\n",
       "      <td>NaN</td>\n",
       "      <td>NaN</td>\n",
       "      <td>NaN</td>\n",
       "      <td>NaN</td>\n",
       "      <td>NaN</td>\n",
       "    </tr>\n",
       "    <tr>\n",
       "      <th>1</th>\n",
       "      <td>PL0109</td>\n",
       "      <td>NaN</td>\n",
       "      <td>NaN</td>\n",
       "      <td>NaN</td>\n",
       "      <td>NaN</td>\n",
       "      <td>NaN</td>\n",
       "      <td>NaN</td>\n",
       "    </tr>\n",
       "    <tr>\n",
       "      <th>2</th>\n",
       "      <td>PL0119</td>\n",
       "      <td>NaN</td>\n",
       "      <td>NaN</td>\n",
       "      <td>NaN</td>\n",
       "      <td>NaN</td>\n",
       "      <td>NaN</td>\n",
       "      <td>NaN</td>\n",
       "    </tr>\n",
       "    <tr>\n",
       "      <th>3</th>\n",
       "      <td>PL0103</td>\n",
       "      <td>NaN</td>\n",
       "      <td>NaN</td>\n",
       "      <td>NaN</td>\n",
       "      <td>NaN</td>\n",
       "      <td>NaN</td>\n",
       "      <td>NaN</td>\n",
       "    </tr>\n",
       "    <tr>\n",
       "      <th>4</th>\n",
       "      <td>LND0702ad</td>\n",
       "      <td>NaN</td>\n",
       "      <td>NaN</td>\n",
       "      <td>NaN</td>\n",
       "      <td>NaN</td>\n",
       "      <td>NaN</td>\n",
       "      <td>NaN</td>\n",
       "    </tr>\n",
       "    <tr>\n",
       "      <th>...</th>\n",
       "      <td>...</td>\n",
       "      <td>...</td>\n",
       "      <td>...</td>\n",
       "      <td>...</td>\n",
       "      <td>...</td>\n",
       "      <td>...</td>\n",
       "      <td>...</td>\n",
       "    </tr>\n",
       "    <tr>\n",
       "      <th>373</th>\n",
       "      <td>9997</td>\n",
       "      <td>NaN</td>\n",
       "      <td>NaN</td>\n",
       "      <td>NaN</td>\n",
       "      <td>NaN</td>\n",
       "      <td>NaN</td>\n",
       "      <td>NaN</td>\n",
       "    </tr>\n",
       "    <tr>\n",
       "      <th>374</th>\n",
       "      <td>9999</td>\n",
       "      <td>NaN</td>\n",
       "      <td>NaN</td>\n",
       "      <td>NaN</td>\n",
       "      <td>NaN</td>\n",
       "      <td>NaN</td>\n",
       "      <td>NaN</td>\n",
       "    </tr>\n",
       "    <tr>\n",
       "      <th>375</th>\n",
       "      <td>10001</td>\n",
       "      <td>NaN</td>\n",
       "      <td>NaN</td>\n",
       "      <td>NaN</td>\n",
       "      <td>NaN</td>\n",
       "      <td>NaN</td>\n",
       "      <td>NaN</td>\n",
       "    </tr>\n",
       "    <tr>\n",
       "      <th>376</th>\n",
       "      <td>10022</td>\n",
       "      <td>NaN</td>\n",
       "      <td>NaN</td>\n",
       "      <td>NaN</td>\n",
       "      <td>NaN</td>\n",
       "      <td>NaN</td>\n",
       "      <td>NaN</td>\n",
       "    </tr>\n",
       "    <tr>\n",
       "      <th>377</th>\n",
       "      <td>10027</td>\n",
       "      <td>NaN</td>\n",
       "      <td>NaN</td>\n",
       "      <td>NaN</td>\n",
       "      <td>NaN</td>\n",
       "      <td>NaN</td>\n",
       "      <td>NaN</td>\n",
       "    </tr>\n",
       "  </tbody>\n",
       "</table>\n",
       "<p>378 rows × 7 columns</p>\n",
       "</div>"
      ],
      "text/plain": [
       "     accession  tmin_historical  tmax_historical  prec_historical  \\\n",
       "0       PL0012              NaN              NaN              NaN   \n",
       "1       PL0109              NaN              NaN              NaN   \n",
       "2       PL0119              NaN              NaN              NaN   \n",
       "3       PL0103              NaN              NaN              NaN   \n",
       "4    LND0702ad              NaN              NaN              NaN   \n",
       "..         ...              ...              ...              ...   \n",
       "373       9997              NaN              NaN              NaN   \n",
       "374       9999              NaN              NaN              NaN   \n",
       "375      10001              NaN              NaN              NaN   \n",
       "376      10022              NaN              NaN              NaN   \n",
       "377      10027              NaN              NaN              NaN   \n",
       "\n",
       "     tmin_modern  tmax_modern  prec_modern  \n",
       "0            NaN          NaN          NaN  \n",
       "1            NaN          NaN          NaN  \n",
       "2            NaN          NaN          NaN  \n",
       "3            NaN          NaN          NaN  \n",
       "4            NaN          NaN          NaN  \n",
       "..           ...          ...          ...  \n",
       "373          NaN          NaN          NaN  \n",
       "374          NaN          NaN          NaN  \n",
       "375          NaN          NaN          NaN  \n",
       "376          NaN          NaN          NaN  \n",
       "377          NaN          NaN          NaN  \n",
       "\n",
       "[378 rows x 7 columns]"
      ]
     },
     "execution_count": 20,
     "metadata": {},
     "output_type": "execute_result"
    }
   ],
   "source": [
    "climate_df"
   ]
  },
  {
   "cell_type": "code",
   "execution_count": 31,
   "id": "811b950e-e311-4ee5-8a1b-d15ba4bc01bf",
   "metadata": {},
   "outputs": [],
   "source": [
    "results = []\n",
    "\n",
    "# Helper function to build the correct filename based on type and variable\n",
    "def get_zip_path(sample_type, var):\n",
    "    if sample_type == 'historical':\n",
    "        return f\"wc/wc2.1_cruts4.09_2.5m_{var}_1970-1979.zip\"\n",
    "    elif sample_type == 'modern':\n",
    "        return f\"wc/wc2.1_cruts4.09_2.5m_{var}_1990-1999.zip\"\n",
    "    else:\n",
    "        return None\n",
    "\n",
    "# Main loop\n",
    "for idx, row in accessions.head(2).iterrows():\n",
    "    acc = row['accession']\n",
    "    lat = row['lat']\n",
    "    lon = row['lon']\n",
    "    sample_type = row['type']\n",
    "    \n",
    "    vals = {'accession': acc}\n",
    "\n",
    "    for var in ['tmin', 'tmax', 'prec']:\n",
    "        zip_path = get_zip_path(sample_type, var)\n",
    "        if zip_path is None:\n",
    "            continue\n",
    "        try:\n",
    "            data, transform, crs = read_raster_from_zip(zip_path)\n",
    "            val = extract_value(data, transform, lon, lat)\n",
    "            vals[f\"{var}_{sample_type}\"] = val\n",
    "        except Exception as e:\n",
    "            print(f\"Failed to extract {var} for {acc}: {e}\")\n",
    "            vals[f\"{var}_{sample_type}\"] = None\n",
    "    \n",
    "    results.append(vals)\n",
    "\n",
    "climate_df = pd.DataFrame(results)\n"
   ]
  },
  {
   "cell_type": "code",
   "execution_count": 32,
   "id": "d8927db2-47fd-4fa2-977e-b5b91c582e51",
   "metadata": {},
   "outputs": [],
   "source": [
    "data, transform, crs = read_raster_from_zip(zip_path)"
   ]
  },
  {
   "cell_type": "code",
   "execution_count": 34,
   "id": "6f8b66fc-57e4-485e-95b5-0b6a76c0eaad",
   "metadata": {},
   "outputs": [
    {
     "data": {
      "text/plain": [
       "array([[nan, nan, nan, ..., nan, nan, nan],\n",
       "       [nan, nan, nan, ..., nan, nan, nan],\n",
       "       [nan, nan, nan, ..., nan, nan, nan],\n",
       "       ...,\n",
       "       [nan, nan, nan, ..., nan, nan, nan],\n",
       "       [nan, nan, nan, ..., nan, nan, nan],\n",
       "       [nan, nan, nan, ..., nan, nan, nan]], dtype=float32)"
      ]
     },
     "execution_count": 34,
     "metadata": {},
     "output_type": "execute_result"
    }
   ],
   "source": [
    "data"
   ]
  },
  {
   "cell_type": "code",
   "execution_count": 33,
   "id": "31597842-9e60-4fe1-9e3c-4a98d52e22b6",
   "metadata": {},
   "outputs": [
    {
     "data": {
      "text/plain": [
       "nan"
      ]
     },
     "execution_count": 33,
     "metadata": {},
     "output_type": "execute_result"
    }
   ],
   "source": [
    "extract_value(data, transform, lon, lat)"
   ]
  },
  {
   "cell_type": "code",
   "execution_count": null,
   "id": "f2fb122d-d70e-417a-8d6e-92c0d27d3298",
   "metadata": {},
   "outputs": [],
   "source": []
  },
  {
   "cell_type": "code",
   "execution_count": 22,
   "id": "97402986-4880-463f-b110-95ac6a388755",
   "metadata": {},
   "outputs": [
    {
     "data": {
      "text/html": [
       "<div>\n",
       "<style scoped>\n",
       "    .dataframe tbody tr th:only-of-type {\n",
       "        vertical-align: middle;\n",
       "    }\n",
       "\n",
       "    .dataframe tbody tr th {\n",
       "        vertical-align: top;\n",
       "    }\n",
       "\n",
       "    .dataframe thead th {\n",
       "        text-align: right;\n",
       "    }\n",
       "</style>\n",
       "<table border=\"1\" class=\"dataframe\">\n",
       "  <thead>\n",
       "    <tr style=\"text-align: right;\">\n",
       "      <th></th>\n",
       "      <th>accession</th>\n",
       "      <th>tmin_historical</th>\n",
       "      <th>tmax_historical</th>\n",
       "      <th>prec_historical</th>\n",
       "    </tr>\n",
       "  </thead>\n",
       "  <tbody>\n",
       "    <tr>\n",
       "      <th>0</th>\n",
       "      <td>PL0012</td>\n",
       "      <td>NaN</td>\n",
       "      <td>NaN</td>\n",
       "      <td>NaN</td>\n",
       "    </tr>\n",
       "    <tr>\n",
       "      <th>1</th>\n",
       "      <td>PL0109</td>\n",
       "      <td>NaN</td>\n",
       "      <td>NaN</td>\n",
       "      <td>NaN</td>\n",
       "    </tr>\n",
       "  </tbody>\n",
       "</table>\n",
       "</div>"
      ],
      "text/plain": [
       "  accession  tmin_historical  tmax_historical  prec_historical\n",
       "0    PL0012              NaN              NaN              NaN\n",
       "1    PL0109              NaN              NaN              NaN"
      ]
     },
     "execution_count": 22,
     "metadata": {},
     "output_type": "execute_result"
    }
   ],
   "source": [
    "climate_df"
   ]
  },
  {
   "cell_type": "code",
   "execution_count": null,
   "id": "81c1be4f-8761-45a6-8ef3-67cb4407dae0",
   "metadata": {},
   "outputs": [],
   "source": []
  },
  {
   "cell_type": "code",
   "execution_count": 23,
   "id": "fbc80ff3-ea9b-4856-a645-5106fb9e3060",
   "metadata": {},
   "outputs": [],
   "source": [
    "import zipfile\n",
    "import rasterio\n",
    "\n",
    "def read_raster_from_zip(zip_path):\n",
    "    with zipfile.ZipFile(zip_path, 'r') as z:\n",
    "        # List all .tif files inside the zip\n",
    "        tif_files = [f for f in z.namelist() if f.endswith('.tif')]\n",
    "        if not tif_files:\n",
    "            raise FileNotFoundError(\"No .tif file found in zip.\")\n",
    "        with z.open(tif_files[0]) as tif:\n",
    "            with rasterio.open(tif) as src:\n",
    "                return src.read(1), src.transform, src.crs"
   ]
  },
  {
   "cell_type": "code",
   "execution_count": 24,
   "id": "9c8247a3-57a0-4c54-83e7-d028dc542ad1",
   "metadata": {},
   "outputs": [],
   "source": [
    "def extract_value(data, transform, lon, lat):\n",
    "    import rasterio\n",
    "    from rasterio.transform import rowcol\n",
    "\n",
    "    try:\n",
    "        row, col = rowcol(transform, lon, lat)\n",
    "        if 0 <= row < data.shape[0] and 0 <= col < data.shape[1]:\n",
    "            return data[row, col]\n",
    "        else:\n",
    "            return None\n",
    "    except Exception as e:\n",
    "        return None\n"
   ]
  },
  {
   "cell_type": "code",
   "execution_count": 25,
   "id": "3e751995-830e-4e2f-a8af-a6d294578246",
   "metadata": {},
   "outputs": [
    {
     "name": "stdout",
     "output_type": "stream",
     "text": [
      "PL0109: type=historical, lat=56.1839, lon=15.60925, file=wc/wc2.1_cruts4.09_2.5m_prec_1970-1979.zip\n"
     ]
    }
   ],
   "source": [
    "print(f\"{acc}: type={sample_type}, lat={lat}, lon={lon}, file={zip_path}\")\n"
   ]
  },
  {
   "cell_type": "code",
   "execution_count": 26,
   "id": "5bc785b7-b411-4123-a17d-95f8ad12542b",
   "metadata": {},
   "outputs": [
    {
     "ename": "SystemError",
     "evalue": "<class 'rasterio._err.CPLE_OpenFailedError'> returned a result with an error set",
     "output_type": "error",
     "traceback": [
      "\u001b[0;31m---------------------------------------------------------------------------\u001b[0m",
      "\u001b[0;31mFileNotFoundError\u001b[0m                         Traceback (most recent call last)",
      "File \u001b[0;32mrasterio/_env.pyx:102\u001b[0m, in \u001b[0;36mrasterio._env.logging_error_handler\u001b[0;34m()\u001b[0m\n",
      "File \u001b[0;32mrasterio/_env.pyx:84\u001b[0m, in \u001b[0;36mrasterio._env.log_error\u001b[0;34m()\u001b[0m\n",
      "File \u001b[0;32mrasterio/_filepath.pyx:143\u001b[0m, in \u001b[0;36mrasterio._filepath.filepath_open\u001b[0;34m()\u001b[0m\n",
      "File \u001b[0;32mrasterio/_filepath.pyx:116\u001b[0m, in \u001b[0;36mrasterio._filepath.clone_file_obj\u001b[0;34m()\u001b[0m\n",
      "\u001b[0;31mFileNotFoundError\u001b[0m: [Errno 2] No such file or directory: 'wc2.1_cruts4.09_2.5m_tmin_1970-01.tif'",
      "\nThe above exception was the direct cause of the following exception:\n",
      "\u001b[0;31mSystemError\u001b[0m                               Traceback (most recent call last)",
      "Cell \u001b[0;32mIn[26], line 6\u001b[0m\n\u001b[1;32m      3\u001b[0m sample_type \u001b[38;5;241m=\u001b[39m \u001b[38;5;124m'\u001b[39m\u001b[38;5;124mhistorical\u001b[39m\u001b[38;5;124m'\u001b[39m\n\u001b[1;32m      4\u001b[0m zip_path \u001b[38;5;241m=\u001b[39m get_zip_path(sample_type, \u001b[38;5;124m'\u001b[39m\u001b[38;5;124mtmin\u001b[39m\u001b[38;5;124m'\u001b[39m)\n\u001b[0;32m----> 6\u001b[0m data, transform, crs \u001b[38;5;241m=\u001b[39m \u001b[43mread_raster_from_zip\u001b[49m\u001b[43m(\u001b[49m\u001b[43mzip_path\u001b[49m\u001b[43m)\u001b[49m\n\u001b[1;32m      7\u001b[0m val \u001b[38;5;241m=\u001b[39m extract_value(data, transform, lon, lat)\n\u001b[1;32m      8\u001b[0m \u001b[38;5;28mprint\u001b[39m(val)\n",
      "Cell \u001b[0;32mIn[23], line 11\u001b[0m, in \u001b[0;36mread_raster_from_zip\u001b[0;34m(zip_path)\u001b[0m\n\u001b[1;32m      9\u001b[0m     \u001b[38;5;28;01mraise\u001b[39;00m \u001b[38;5;167;01mFileNotFoundError\u001b[39;00m(\u001b[38;5;124m\"\u001b[39m\u001b[38;5;124mNo .tif file found in zip.\u001b[39m\u001b[38;5;124m\"\u001b[39m)\n\u001b[1;32m     10\u001b[0m \u001b[38;5;28;01mwith\u001b[39;00m z\u001b[38;5;241m.\u001b[39mopen(tif_files[\u001b[38;5;241m0\u001b[39m]) \u001b[38;5;28;01mas\u001b[39;00m tif:\n\u001b[0;32m---> 11\u001b[0m     \u001b[38;5;28;01mwith\u001b[39;00m \u001b[43mrasterio\u001b[49m\u001b[38;5;241;43m.\u001b[39;49m\u001b[43mopen\u001b[49m\u001b[43m(\u001b[49m\u001b[43mtif\u001b[49m\u001b[43m)\u001b[49m \u001b[38;5;28;01mas\u001b[39;00m src:\n\u001b[1;32m     12\u001b[0m         \u001b[38;5;28;01mreturn\u001b[39;00m src\u001b[38;5;241m.\u001b[39mread(\u001b[38;5;241m1\u001b[39m), src\u001b[38;5;241m.\u001b[39mtransform, src\u001b[38;5;241m.\u001b[39mcrs\n",
      "File \u001b[0;32m~/.local/lib/python3.9/site-packages/rasterio/env.py:451\u001b[0m, in \u001b[0;36mensure_env_with_credentials.<locals>.wrapper\u001b[0;34m(*args, **kwds)\u001b[0m\n\u001b[1;32m    448\u001b[0m     session \u001b[38;5;241m=\u001b[39m DummySession()\n\u001b[1;32m    450\u001b[0m \u001b[38;5;28;01mwith\u001b[39;00m env_ctor(session\u001b[38;5;241m=\u001b[39msession):\n\u001b[0;32m--> 451\u001b[0m     \u001b[38;5;28;01mreturn\u001b[39;00m \u001b[43mf\u001b[49m\u001b[43m(\u001b[49m\u001b[38;5;241;43m*\u001b[39;49m\u001b[43margs\u001b[49m\u001b[43m,\u001b[49m\u001b[43m \u001b[49m\u001b[38;5;241;43m*\u001b[39;49m\u001b[38;5;241;43m*\u001b[39;49m\u001b[43mkwds\u001b[49m\u001b[43m)\u001b[49m\n",
      "File \u001b[0;32m~/.local/lib/python3.9/site-packages/rasterio/__init__.py:242\u001b[0m, in \u001b[0;36mopen\u001b[0;34m(fp, mode, driver, width, height, count, crs, transform, dtype, nodata, sharing, **kwargs)\u001b[0m\n\u001b[1;32m    240\u001b[0m \u001b[38;5;28;01mif\u001b[39;00m mode \u001b[38;5;241m==\u001b[39m \u001b[38;5;124m'\u001b[39m\u001b[38;5;124mr\u001b[39m\u001b[38;5;124m'\u001b[39m \u001b[38;5;129;01mand\u001b[39;00m \u001b[38;5;28mhasattr\u001b[39m(fp, \u001b[38;5;124m'\u001b[39m\u001b[38;5;124mread\u001b[39m\u001b[38;5;124m'\u001b[39m):\n\u001b[1;32m    241\u001b[0m     \u001b[38;5;28;01mif\u001b[39;00m have_vsi_plugin:\n\u001b[0;32m--> 242\u001b[0m         \u001b[38;5;28;01mreturn\u001b[39;00m \u001b[43mFilePath\u001b[49m\u001b[43m(\u001b[49m\u001b[43mfp\u001b[49m\u001b[43m)\u001b[49m\u001b[38;5;241;43m.\u001b[39;49m\u001b[43mopen\u001b[49m\u001b[43m(\u001b[49m\u001b[43mdriver\u001b[49m\u001b[38;5;241;43m=\u001b[39;49m\u001b[43mdriver\u001b[49m\u001b[43m,\u001b[49m\u001b[43m \u001b[49m\u001b[43msharing\u001b[49m\u001b[38;5;241;43m=\u001b[39;49m\u001b[43msharing\u001b[49m\u001b[43m,\u001b[49m\u001b[43m \u001b[49m\u001b[38;5;241;43m*\u001b[39;49m\u001b[38;5;241;43m*\u001b[39;49m\u001b[43mkwargs\u001b[49m\u001b[43m)\u001b[49m\n\u001b[1;32m    243\u001b[0m     \u001b[38;5;28;01melse\u001b[39;00m:\n\u001b[1;32m    244\u001b[0m         memfile \u001b[38;5;241m=\u001b[39m MemoryFile(fp\u001b[38;5;241m.\u001b[39mread())\n",
      "File \u001b[0;32m~/.local/lib/python3.9/site-packages/rasterio/env.py:398\u001b[0m, in \u001b[0;36mensure_env.<locals>.wrapper\u001b[0;34m(*args, **kwds)\u001b[0m\n\u001b[1;32m    395\u001b[0m \u001b[38;5;129m@wraps\u001b[39m(f)\n\u001b[1;32m    396\u001b[0m \u001b[38;5;28;01mdef\u001b[39;00m \u001b[38;5;21mwrapper\u001b[39m(\u001b[38;5;241m*\u001b[39margs, \u001b[38;5;241m*\u001b[39m\u001b[38;5;241m*\u001b[39mkwds):\n\u001b[1;32m    397\u001b[0m     \u001b[38;5;28;01mif\u001b[39;00m local\u001b[38;5;241m.\u001b[39m_env:\n\u001b[0;32m--> 398\u001b[0m         \u001b[38;5;28;01mreturn\u001b[39;00m \u001b[43mf\u001b[49m\u001b[43m(\u001b[49m\u001b[38;5;241;43m*\u001b[39;49m\u001b[43margs\u001b[49m\u001b[43m,\u001b[49m\u001b[43m \u001b[49m\u001b[38;5;241;43m*\u001b[39;49m\u001b[38;5;241;43m*\u001b[39;49m\u001b[43mkwds\u001b[49m\u001b[43m)\u001b[49m\n\u001b[1;32m    399\u001b[0m     \u001b[38;5;28;01melse\u001b[39;00m:\n\u001b[1;32m    400\u001b[0m         \u001b[38;5;28;01mwith\u001b[39;00m Env\u001b[38;5;241m.\u001b[39mfrom_defaults():\n",
      "File \u001b[0;32m~/.local/lib/python3.9/site-packages/rasterio/io.py:236\u001b[0m, in \u001b[0;36m_FilePath.open\u001b[0;34m(self, driver, sharing, **kwargs)\u001b[0m\n\u001b[1;32m    233\u001b[0m \u001b[38;5;66;03m# Assume we were given a non-empty file-like object\u001b[39;00m\n\u001b[1;32m    234\u001b[0m log\u001b[38;5;241m.\u001b[39mdebug(\u001b[38;5;124m\"\u001b[39m\u001b[38;5;124mVSI path: \u001b[39m\u001b[38;5;132;01m{}\u001b[39;00m\u001b[38;5;124m\"\u001b[39m\u001b[38;5;241m.\u001b[39mformat(mempath\u001b[38;5;241m.\u001b[39mpath))\n\u001b[0;32m--> 236\u001b[0m \u001b[38;5;28;01mreturn\u001b[39;00m \u001b[43mDatasetReader\u001b[49m\u001b[43m(\u001b[49m\u001b[43mmempath\u001b[49m\u001b[43m,\u001b[49m\u001b[43m \u001b[49m\u001b[43mdriver\u001b[49m\u001b[38;5;241;43m=\u001b[39;49m\u001b[43mdriver\u001b[49m\u001b[43m,\u001b[49m\u001b[43m \u001b[49m\u001b[43msharing\u001b[49m\u001b[38;5;241;43m=\u001b[39;49m\u001b[43msharing\u001b[49m\u001b[43m,\u001b[49m\u001b[43m \u001b[49m\u001b[38;5;241;43m*\u001b[39;49m\u001b[38;5;241;43m*\u001b[39;49m\u001b[43mkwargs\u001b[49m\u001b[43m)\u001b[49m\n",
      "File \u001b[0;32mrasterio/_base.pyx:310\u001b[0m, in \u001b[0;36mrasterio._base.DatasetBase.__init__\u001b[0;34m()\u001b[0m\n",
      "File \u001b[0;32mrasterio/_base.pyx:221\u001b[0m, in \u001b[0;36mrasterio._base.open_dataset\u001b[0;34m()\u001b[0m\n",
      "File \u001b[0;32mrasterio/_err.pyx:219\u001b[0m, in \u001b[0;36mrasterio._err.exc_wrap_pointer\u001b[0;34m()\u001b[0m\n",
      "File \u001b[0;32mrasterio/_err.pyx:166\u001b[0m, in \u001b[0;36mrasterio._err.exc_check\u001b[0;34m()\u001b[0m\n",
      "\u001b[0;31mSystemError\u001b[0m: <class 'rasterio._err.CPLE_OpenFailedError'> returned a result with an error set"
     ]
    }
   ],
   "source": [
    "lat = 55.69076\n",
    "lon = 13.16552\n",
    "sample_type = 'historical'\n",
    "zip_path = get_zip_path(sample_type, 'tmin')\n",
    "\n",
    "data, transform, crs = read_raster_from_zip(zip_path)\n",
    "val = extract_value(data, transform, lon, lat)\n",
    "print(val)"
   ]
  },
  {
   "cell_type": "code",
   "execution_count": null,
   "id": "894ab214-d6b2-400e-b503-baefa1dfa098",
   "metadata": {},
   "outputs": [],
   "source": [
    "\n"
   ]
  },
  {
   "cell_type": "code",
   "execution_count": null,
   "id": "8889f401-0aa7-44da-9e5c-d55d6e2ff4d3",
   "metadata": {},
   "outputs": [],
   "source": []
  },
  {
   "cell_type": "code",
   "execution_count": 35,
   "id": "2a7bf119-a8e9-449e-bcd1-f596ef1d96c0",
   "metadata": {},
   "outputs": [],
   "source": [
    "import os\n",
    "import glob\n",
    "import rasterio\n",
    "import pandas as pd\n",
    "\n",
    "def extract_monthly_values(tif_files, lon, lat):\n",
    "    monthly_values = []\n",
    "    for tif_file in sorted(tif_files):\n",
    "        with rasterio.open(tif_file) as src:\n",
    "            row, col = src.index(lon, lat)\n",
    "            value = src.read(1)[row, col]\n",
    "            monthly_values.append(value)\n",
    "    return monthly_values\n",
    "\n",
    "# Prepare results container\n",
    "results = []\n",
    "\n",
    "# Loop over ecotypes\n",
    "for idx, row in accessions.head(2).iterrows():\n",
    "    \n",
    "    acc = row['accession']\n",
    "    lat = row['lat']\n",
    "    lon = row['lon']\n",
    "    print(acc, lat, lon)\n",
    "    record = {'accession': acc}\n",
    "\n",
    "    for climate_type, decade in [('historical', '1970-1979'), ('modern', '1990-1999')]:\n",
    "        for var in ['tmin', 'tmax', 'prec']:\n",
    "            path_pattern = f\"~/scratch/selection_scan/climate/wc/wc2.1_cruts4.09_2.5m_{var}_{decade}_*.tif\"\n",
    "            tif_files = glob.glob(os.path.expanduser(path_pattern))\n",
    "            if not tif_files:\n",
    "                continue\n",
    "            values = extract_monthly_values(tif_files, lon, lat)\n",
    "            for i, val in enumerate(values):\n",
    "                record[f\"{var}_{climate_type}_month{i+1:02d}\"] = val\n",
    "\n",
    "    results.append(record)\n",
    "\n",
    "climate_monthly_df = pd.DataFrame(results)\n"
   ]
  },
  {
   "cell_type": "code",
   "execution_count": 49,
   "id": "525879f6-63e6-4f78-a082-99e1489b73db",
   "metadata": {},
   "outputs": [
    {
     "name": "stdout",
     "output_type": "stream",
     "text": [
      "PL0012 55.69076 13.16552\n",
      "PL0109 56.1839 15.60925\n"
     ]
    }
   ],
   "source": [
    "import pandas as pd\n",
    "import rasterio\n",
    "import os\n",
    "from glob import glob\n",
    "from collections import defaultdict\n",
    "\n",
    "# Setup\n",
    "data_dir = \"/carnegie/nobackup/scratch/tbellagio/selection_scan/climate/wc\"\n",
    "variables = [\"tmin\", \"tmax\", \"prec\"]\n",
    "periods = {\n",
    "    \"historical\": list(range(1970, 1980)),\n",
    "    \"modern\": list(range(1990, 2000))\n",
    "}\n",
    "months = [f\"{i:02d}\" for i in range(1, 13)]\n",
    "\n",
    "# Result container\n",
    "results = []\n",
    "\n",
    "# Iterate over accessions\n",
    "for idx, row in accessions.head(2).iterrows():\n",
    "    acc = row[\"accession\"]\n",
    "    lat = row[\"lat\"]\n",
    "    lon = row[\"lon\"]\n",
    "    acc_record = {\"accession\": acc}\n",
    "    print(acc, lat, lon)\n",
    "    for period_name, years in periods.items():\n",
    "        for var in variables:\n",
    "            # Matrix to collect values by month\n",
    "            monthly_values = defaultdict(list)\n",
    "\n",
    "            for year in years:\n",
    "                for month in months:\n",
    "                    tif_name = f\"wc2.1_cruts4.09_2.5m_{var}_{year}-{month}.tif\"\n",
    "                    tif_path = os.path.join(data_dir, tif_name)\n",
    "                    if not os.path.exists(tif_path):\n",
    "                        continue\n",
    "\n",
    "                    try:\n",
    "                        with rasterio.open(tif_path) as src:\n",
    "                            row_idx, col_idx = src.index(lon, lat)\n",
    "                            val = src.read(1)[row_idx, col_idx]\n",
    "                            if val is not None:\n",
    "                                monthly_values[month].append(val)\n",
    "                    except Exception as e:\n",
    "                        print(f\"Error reading {tif_path} for {acc}: {e}\")\n",
    "                        continue\n",
    "\n",
    "            # Average across years for each month\n",
    "            for month in months:\n",
    "                vals = monthly_values[month]\n",
    "                avg_val = sum(vals) / len(vals) if vals else None\n",
    "                acc_record[f\"{var}_{period_name}_month{month}\"] = avg_val\n",
    "\n",
    "    results.append(acc_record)\n",
    "\n",
    "# Convert to DataFrame\n",
    "climate_monthly_df = pd.DataFrame(results)\n"
   ]
  },
  {
   "cell_type": "code",
   "execution_count": 50,
   "id": "b204059e-e725-4951-9382-24157dc781b5",
   "metadata": {
    "scrolled": true
   },
   "outputs": [
    {
     "data": {
      "text/html": [
       "<div>\n",
       "<style scoped>\n",
       "    .dataframe tbody tr th:only-of-type {\n",
       "        vertical-align: middle;\n",
       "    }\n",
       "\n",
       "    .dataframe tbody tr th {\n",
       "        vertical-align: top;\n",
       "    }\n",
       "\n",
       "    .dataframe thead th {\n",
       "        text-align: right;\n",
       "    }\n",
       "</style>\n",
       "<table border=\"1\" class=\"dataframe\">\n",
       "  <thead>\n",
       "    <tr style=\"text-align: right;\">\n",
       "      <th></th>\n",
       "      <th>accession</th>\n",
       "      <th>tmin_historical_month01</th>\n",
       "      <th>tmin_historical_month02</th>\n",
       "      <th>tmin_historical_month03</th>\n",
       "      <th>tmin_historical_month04</th>\n",
       "      <th>tmin_historical_month05</th>\n",
       "      <th>tmin_historical_month06</th>\n",
       "      <th>tmin_historical_month07</th>\n",
       "      <th>tmin_historical_month08</th>\n",
       "      <th>tmin_historical_month09</th>\n",
       "      <th>...</th>\n",
       "      <th>prec_modern_month03</th>\n",
       "      <th>prec_modern_month04</th>\n",
       "      <th>prec_modern_month05</th>\n",
       "      <th>prec_modern_month06</th>\n",
       "      <th>prec_modern_month07</th>\n",
       "      <th>prec_modern_month08</th>\n",
       "      <th>prec_modern_month09</th>\n",
       "      <th>prec_modern_month10</th>\n",
       "      <th>prec_modern_month11</th>\n",
       "      <th>prec_modern_month12</th>\n",
       "    </tr>\n",
       "  </thead>\n",
       "  <tbody>\n",
       "    <tr>\n",
       "      <th>0</th>\n",
       "      <td>PL0012</td>\n",
       "      <td>-2.1</td>\n",
       "      <td>-2.5</td>\n",
       "      <td>-0.5</td>\n",
       "      <td>1.9</td>\n",
       "      <td>6.7</td>\n",
       "      <td>10.9</td>\n",
       "      <td>12.8</td>\n",
       "      <td>12.5</td>\n",
       "      <td>9.4</td>\n",
       "      <td>...</td>\n",
       "      <td>36.4</td>\n",
       "      <td>37.84</td>\n",
       "      <td>44.589999</td>\n",
       "      <td>53.44</td>\n",
       "      <td>53.130000</td>\n",
       "      <td>55.570000</td>\n",
       "      <td>73.569999</td>\n",
       "      <td>59.94</td>\n",
       "      <td>57.279999</td>\n",
       "      <td>57.790001</td>\n",
       "    </tr>\n",
       "    <tr>\n",
       "      <th>1</th>\n",
       "      <td>PL0109</td>\n",
       "      <td>-3.0</td>\n",
       "      <td>-3.7</td>\n",
       "      <td>-1.9</td>\n",
       "      <td>0.7</td>\n",
       "      <td>5.3</td>\n",
       "      <td>9.8</td>\n",
       "      <td>12.0</td>\n",
       "      <td>11.6</td>\n",
       "      <td>8.2</td>\n",
       "      <td>...</td>\n",
       "      <td>30.3</td>\n",
       "      <td>34.51</td>\n",
       "      <td>40.380000</td>\n",
       "      <td>48.88</td>\n",
       "      <td>49.889999</td>\n",
       "      <td>53.370001</td>\n",
       "      <td>76.080000</td>\n",
       "      <td>55.89</td>\n",
       "      <td>64.200001</td>\n",
       "      <td>58.530000</td>\n",
       "    </tr>\n",
       "  </tbody>\n",
       "</table>\n",
       "<p>2 rows × 73 columns</p>\n",
       "</div>"
      ],
      "text/plain": [
       "  accession  tmin_historical_month01  tmin_historical_month02  \\\n",
       "0    PL0012                     -2.1                     -2.5   \n",
       "1    PL0109                     -3.0                     -3.7   \n",
       "\n",
       "   tmin_historical_month03  tmin_historical_month04  tmin_historical_month05  \\\n",
       "0                     -0.5                      1.9                      6.7   \n",
       "1                     -1.9                      0.7                      5.3   \n",
       "\n",
       "   tmin_historical_month06  tmin_historical_month07  tmin_historical_month08  \\\n",
       "0                     10.9                     12.8                     12.5   \n",
       "1                      9.8                     12.0                     11.6   \n",
       "\n",
       "   tmin_historical_month09  ...  prec_modern_month03  prec_modern_month04  \\\n",
       "0                      9.4  ...                 36.4                37.84   \n",
       "1                      8.2  ...                 30.3                34.51   \n",
       "\n",
       "   prec_modern_month05  prec_modern_month06  prec_modern_month07  \\\n",
       "0            44.589999                53.44            53.130000   \n",
       "1            40.380000                48.88            49.889999   \n",
       "\n",
       "   prec_modern_month08  prec_modern_month09  prec_modern_month10  \\\n",
       "0            55.570000            73.569999                59.94   \n",
       "1            53.370001            76.080000                55.89   \n",
       "\n",
       "   prec_modern_month11  prec_modern_month12  \n",
       "0            57.279999            57.790001  \n",
       "1            64.200001            58.530000  \n",
       "\n",
       "[2 rows x 73 columns]"
      ]
     },
     "execution_count": 50,
     "metadata": {},
     "output_type": "execute_result"
    }
   ],
   "source": [
    "climate_monthly_df"
   ]
  },
  {
   "cell_type": "code",
   "execution_count": null,
   "id": "1e2ae312-2d75-4960-bcbf-8553ed5d103e",
   "metadata": {},
   "outputs": [],
   "source": []
  },
  {
   "cell_type": "code",
   "execution_count": 43,
   "id": "7245c0d4-8f81-4c67-b420-138afbac0a42",
   "metadata": {},
   "outputs": [
    {
     "data": {
      "text/plain": [
       "'wc2.1_cruts4.09_2.5m_prec_1999-12.tif'"
      ]
     },
     "execution_count": 43,
     "metadata": {},
     "output_type": "execute_result"
    }
   ],
   "source": [
    "tif_name"
   ]
  },
  {
   "cell_type": "code",
   "execution_count": 46,
   "id": "93c4b524-bb99-4d38-8b70-b6a65b97133a",
   "metadata": {},
   "outputs": [
    {
     "data": {
      "text/plain": [
       "'/carnegie/nobackup/scratch/tbellagio/selection_scan/climate'"
      ]
     },
     "execution_count": 46,
     "metadata": {},
     "output_type": "execute_result"
    }
   ],
   "source": [
    "pwd"
   ]
  },
  {
   "cell_type": "code",
   "execution_count": 47,
   "id": "3dade2e8-18cf-4e75-b6ca-566dfd96d0ba",
   "metadata": {},
   "outputs": [],
   "source": [
    "tif_path = 'wc/wc2.1_cruts4.09_2.5m_prec_1999-12.tif'"
   ]
  },
  {
   "cell_type": "code",
   "execution_count": 48,
   "id": "956a83f4-59aa-4c95-ba12-9de86dc7b47f",
   "metadata": {},
   "outputs": [],
   "source": [
    "with rasterio.open(tif_path) as src:\n",
    "    row_idx, col_idx = src.index(lon, lat)\n",
    "    val = src.read(1)[row_idx, col_idx]\n",
    "    if val is not None:\n",
    "        monthly_values[month].append(val)"
   ]
  },
  {
   "cell_type": "code",
   "execution_count": null,
   "id": "a12f6702-1453-4714-884e-af4b18a61ce7",
   "metadata": {},
   "outputs": [],
   "source": []
  },
  {
   "cell_type": "code",
   "execution_count": null,
   "id": "de127808-1f93-40ba-ab07-ab04190eef99",
   "metadata": {},
   "outputs": [],
   "source": []
  },
  {
   "cell_type": "code",
   "execution_count": 38,
   "id": "91304770-f14e-4ca0-b112-9773afeb4e3a",
   "metadata": {},
   "outputs": [
    {
     "data": {
      "text/plain": [
       "'1990-1999'"
      ]
     },
     "execution_count": 38,
     "metadata": {},
     "output_type": "execute_result"
    }
   ],
   "source": [
    "decade"
   ]
  },
  {
   "cell_type": "code",
   "execution_count": null,
   "id": "16b2c6a8-26c1-460a-8d57-9eaac766a532",
   "metadata": {},
   "outputs": [],
   "source": []
  },
  {
   "cell_type": "code",
   "execution_count": null,
   "id": "f18f9924-35a6-4f3d-8db6-04f52078c2d2",
   "metadata": {},
   "outputs": [],
   "source": []
  },
  {
   "cell_type": "code",
   "execution_count": null,
   "id": "f81a2748-9c29-4393-ade9-4febb837e2d0",
   "metadata": {},
   "outputs": [],
   "source": []
  },
  {
   "cell_type": "code",
   "execution_count": null,
   "id": "aadace78-d82d-4963-bc9b-cd90a0333130",
   "metadata": {},
   "outputs": [],
   "source": [
    "climate_prec.to_csv('climate_prec_ecotypes.csv')\n",
    "climate_max_temp.to_csv('climate_max_temp_ecotypes.csv')\n",
    "climate_min_temp.to_csv('climate_min_temp_ecotypes.csv')"
   ]
  },
  {
   "cell_type": "code",
   "execution_count": null,
   "id": "7a7ad69c-3ca0-4c7e-b32e-8da82210e5fd",
   "metadata": {},
   "outputs": [],
   "source": [
    "## run the dismo package from R to get the bioclim variables\n",
    "subprocess.call(\"~/miniforge3/envs/r-environment/bin/Rscript --vanilla  /home/tbellagio/scratch/climate_grenet/run_dismo_bioclim_calc_ecotypes.R\", \n",
    "                shell=True)"
   ]
  }
 ],
 "metadata": {
  "kernelspec": {
   "display_name": "Python (pipeline_snakemake)",
   "language": "python",
   "name": "pipeline_snakemake"
  },
  "language_info": {
   "codemirror_mode": {
    "name": "ipython",
    "version": 3
   },
   "file_extension": ".py",
   "mimetype": "text/x-python",
   "name": "python",
   "nbconvert_exporter": "python",
   "pygments_lexer": "ipython3",
   "version": "3.9.16"
  }
 },
 "nbformat": 4,
 "nbformat_minor": 5
}
