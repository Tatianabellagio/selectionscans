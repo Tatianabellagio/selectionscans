{
 "cells": [
  {
   "cell_type": "code",
   "execution_count": 1,
   "id": "2255322f-1295-4eff-b967-2bdb89157493",
   "metadata": {},
   "outputs": [],
   "source": [
    "import subprocess\n",
    "import pandas as pd\n",
    "import matplotlib.pyplot as plt\n",
    "import xarray as xr\n",
    "import pandas as pd\n",
    "import os\n",
    "import numpy as np\n",
    "import cdsapi\n",
    "import sys\n",
    "import pickle"
   ]
  },
  {
   "cell_type": "code",
   "execution_count": 2,
   "id": "ffa42f65-dfc5-449a-8a52-019788e4d703",
   "metadata": {},
   "outputs": [],
   "source": [
    "sites = pd.read_csv('sites.csv')"
   ]
  },
  {
   "cell_type": "code",
   "execution_count": 3,
   "id": "217f25df-0ad3-4a13-87c2-a458f713bfde",
   "metadata": {},
   "outputs": [],
   "source": [
    "## xing keys \n",
    "temp_keys = ['321100:a317ade5-2fe1-4c47-b58e-e1b052be3b6f',\n",
    "             '321102:31c8afc7-5139-4aec-ba9f-432084c01f8a',\n",
    "             '321103:80aff11e-e4f6-42d7-98d5-4d98f29a3f6b',\n",
    "             '321104:d5240f28-4a8e-46f4-97e6-bccd2f56bd1a',\n",
    "## my keys             \n",
    "             '307175:d8d04ba8-f834-463e-88a1-b6e15e086300',\n",
    "             '302936:8b7b60c7-5f8b-426b-b0aa-343852ff87c9',\n",
    "              '321313:8616e63d-d2b7-48e6-904b-7b71b365c722']\n"
   ]
  },
  {
   "cell_type": "code",
   "execution_count": 4,
   "id": "4e77ab26-1d7d-43a5-9d34-fd97c439d36a",
   "metadata": {},
   "outputs": [],
   "source": [
    "prec_keys = ['321314:bf6a8969-9d27-4edc-85f3-cddfddd2682e',\n",
    "             '321109:44007c90-96c1-4cca-a211-49c05ac3b9f5',\n",
    "             '321112:9a6d476d-a094-45b2-bb19-12de3966acee',\n",
    "             '321277:072edf56-ad7e-410a-b24f-9ab7efdef6d4',\n",
    "             '321110:1c7f6e27-1ce7-4bee-8e28-84d442bb41bf',\n",
    "             '321108:422c90e1-b378-471d-bc81-cfabb47078c1']"
   ]
  },
  {
   "cell_type": "code",
   "execution_count": 5,
   "id": "dec3e906-6e70-4f85-86ec-3a69ac8fbc24",
   "metadata": {},
   "outputs": [],
   "source": [
    "prec_keys = ['321100:a317ade5-2fe1-4c47-b58e-e1b052be3b6f',\n",
    "             '321102:31c8afc7-5139-4aec-ba9f-432084c01f8a',\n",
    "             '321103:80aff11e-e4f6-42d7-98d5-4d98f29a3f6b',\n",
    "             '321104:d5240f28-4a8e-46f4-97e6-bccd2f56bd1a',\n",
    "## my keys             \n",
    "             '307175:d8d04ba8-f834-463e-88a1-b6e15e086300',\n",
    "             '302936:8b7b60c7-5f8b-426b-b0aa-343852ff87c9',\n",
    "              '321313:8616e63d-d2b7-48e6-904b-7b71b365c722',\n",
    "            '321314:bf6a8969-9d27-4edc-85f3-cddfddd2682e',\n",
    "             '321109:44007c90-96c1-4cca-a211-49c05ac3b9f5',\n",
    "             '321112:9a6d476d-a094-45b2-bb19-12de3966acee',\n",
    "             '321277:072edf56-ad7e-410a-b24f-9ab7efdef6d4',\n",
    "             '321110:1c7f6e27-1ce7-4bee-8e28-84d442bb41bf',\n",
    "             '321108:422c90e1-b378-471d-bc81-cfabb47078c1']"
   ]
  },
  {
   "cell_type": "code",
   "execution_count": 54,
   "id": "1b0f6bd7-c616-464d-9579-05b8dda10088",
   "metadata": {},
   "outputs": [],
   "source": [
    "## dsitribute keys  in precipiations \n",
    "ecotype_id_prec = ecotypes['ecotype_id']\n",
    "\n",
    "## substract the ones that are done\n",
    "ecotype_id_prec = [i for i in ecotype_id_prec if i in ['6939']]\n",
    "\n",
    "# Calculate how many ecotypes per API\n",
    "ecotypes_per_api = 1#len(ecotype_id_prec) // len(prec_keys)\n",
    "\n",
    "# Distribute ecotypes to prec_keys\n",
    "key_assignments_prec = {api: [] for api in prec_keys}\n",
    "for i, ecotype in enumerate(ecotype_id_prec):\n",
    "    key_index = i // ecotypes_per_api\n",
    "\n",
    "    key_assignments_prec[prec_keys[key_index - 1]].append(ecotype)"
   ]
  },
  {
   "cell_type": "code",
   "execution_count": 55,
   "id": "2e7deb70-88dc-4520-bde1-04521ea174f5",
   "metadata": {},
   "outputs": [],
   "source": [
    "key_assignments_prec['321314:bf6a8969-9d27-4edc-85f3-cddfddd2682e'] = [6939]"
   ]
  },
  {
   "cell_type": "code",
   "execution_count": 56,
   "id": "261fac91-9f7d-4d2b-99d0-f6438d614fea",
   "metadata": {},
   "outputs": [
    {
     "data": {
      "text/plain": [
       "{'321314:bf6a8969-9d27-4edc-85f3-cddfddd2682e': [6939],\n",
       " '321109:44007c90-96c1-4cca-a211-49c05ac3b9f5': [],\n",
       " '321112:9a6d476d-a094-45b2-bb19-12de3966acee': [],\n",
       " '321277:072edf56-ad7e-410a-b24f-9ab7efdef6d4': [],\n",
       " '321110:1c7f6e27-1ce7-4bee-8e28-84d442bb41bf': [],\n",
       " '321108:422c90e1-b378-471d-bc81-cfabb47078c1': []}"
      ]
     },
     "execution_count": 56,
     "metadata": {},
     "output_type": "execute_result"
    }
   ],
   "source": [
    "key_assignments_prec"
   ]
  },
  {
   "cell_type": "code",
   "execution_count": null,
   "id": "f1cbf672-c28b-47f7-a177-b3a2fc172260",
   "metadata": {},
   "outputs": [],
   "source": []
  },
  {
   "cell_type": "code",
   "execution_count": 49,
   "id": "6d8592b4-7e14-4892-ac9f-fda38d8d7e55",
   "metadata": {},
   "outputs": [],
   "source": [
    "ecotypes_df = pd.read_csv('1001g_regmap_grenet_ecotype_info_corrected_2024may16.csv')\n",
    "#ecotypes_df = ecotypes_df[ecotypes_df['source'] != 'regmap']\n",
    "ecotypes_df = ecotypes_df[ecotypes_df['ecotype_id'].isin([6939])]"
   ]
  },
  {
   "cell_type": "code",
   "execution_count": 50,
   "id": "a5d8ad42-ffb8-4add-9aef-6fe99575d094",
   "metadata": {},
   "outputs": [
    {
     "data": {
      "text/html": [
       "<div>\n",
       "<style scoped>\n",
       "    .dataframe tbody tr th:only-of-type {\n",
       "        vertical-align: middle;\n",
       "    }\n",
       "\n",
       "    .dataframe tbody tr th {\n",
       "        vertical-align: top;\n",
       "    }\n",
       "\n",
       "    .dataframe thead th {\n",
       "        text-align: right;\n",
       "    }\n",
       "</style>\n",
       "<table border=\"1\" class=\"dataframe\">\n",
       "  <thead>\n",
       "    <tr style=\"text-align: right;\">\n",
       "      <th></th>\n",
       "      <th>ecotype_id</th>\n",
       "      <th>source</th>\n",
       "      <th>GrENE-net</th>\n",
       "      <th>country</th>\n",
       "      <th>Latitude_corrected</th>\n",
       "      <th>Longitude_corrected</th>\n",
       "    </tr>\n",
       "  </thead>\n",
       "  <tbody>\n",
       "    <tr>\n",
       "      <th>230</th>\n",
       "      <td>6939</td>\n",
       "      <td>regmap</td>\n",
       "      <td>True</td>\n",
       "      <td>LIB</td>\n",
       "      <td>32.34</td>\n",
       "      <td>22.46</td>\n",
       "    </tr>\n",
       "  </tbody>\n",
       "</table>\n",
       "</div>"
      ],
      "text/plain": [
       "     ecotype_id  source  GrENE-net country  Latitude_corrected  \\\n",
       "230        6939  regmap       True     LIB               32.34   \n",
       "\n",
       "     Longitude_corrected  \n",
       "230                22.46  "
      ]
     },
     "execution_count": 50,
     "metadata": {},
     "output_type": "execute_result"
    }
   ],
   "source": [
    "ecotypes_df"
   ]
  },
  {
   "cell_type": "code",
   "execution_count": null,
   "id": "3444fd3b-5028-4f4a-8a83-6b03fbd463ba",
   "metadata": {},
   "outputs": [],
   "source": []
  },
  {
   "cell_type": "code",
   "execution_count": null,
   "id": "5e4a6aa7-6935-47b7-8b45-e7969a601ee2",
   "metadata": {},
   "outputs": [],
   "source": []
  },
  {
   "cell_type": "code",
   "execution_count": 60,
   "id": "2e25f880-c1e7-4352-b5ef-122b400a358b",
   "metadata": {},
   "outputs": [
    {
     "data": {
      "text/plain": [
       "True"
      ]
     },
     "execution_count": 60,
     "metadata": {},
     "output_type": "execute_result"
    }
   ],
   "source": [
    "## check that all the ecotypes have been assigned \n",
    "total = []\n",
    "for i in range(13):\n",
    "    prec_keys[i]\n",
    "    ec = key_assignments_prec[prec_keys[i]]\n",
    "    total.extend(ec)\n",
    "set(np.array(ecotype_id_prec)) == set(np.array(total).flatten())"
   ]
  },
  {
   "cell_type": "code",
   "execution_count": 61,
   "id": "6fbef1c6-d302-41c0-94f5-392916f7fae0",
   "metadata": {},
   "outputs": [
    {
     "data": {
      "text/plain": [
       "32"
      ]
     },
     "execution_count": 61,
     "metadata": {},
     "output_type": "execute_result"
    }
   ],
   "source": [
    "len(ecotype_id_prec)"
   ]
  },
  {
   "cell_type": "code",
   "execution_count": 62,
   "id": "d12262a7-618d-4ae5-974a-3f4954473820",
   "metadata": {},
   "outputs": [
    {
     "data": {
      "text/plain": [
       "32"
      ]
     },
     "execution_count": 62,
     "metadata": {},
     "output_type": "execute_result"
    }
   ],
   "source": [
    "len(total)"
   ]
  },
  {
   "cell_type": "code",
   "execution_count": 63,
   "id": "65a6fd3e-04bc-4b49-a453-9b131c058020",
   "metadata": {
    "scrolled": true
   },
   "outputs": [
    {
     "data": {
      "text/plain": [
       "3"
      ]
     },
     "execution_count": 63,
     "metadata": {},
     "output_type": "execute_result"
    }
   ],
   "source": [
    "len(key_assignments_prec[prec_keys[i]])"
   ]
  },
  {
   "cell_type": "code",
   "execution_count": 36,
   "id": "117318df-7185-44c0-a558-199581e8e4d4",
   "metadata": {},
   "outputs": [],
   "source": [
    "# Serialize the dictionary to a pickle file\n",
    "with open('key_assignments_prec_left.pkl', 'wb') as file:\n",
    "    pickle.dump(key_assignments_prec, file)"
   ]
  },
  {
   "cell_type": "code",
   "execution_count": null,
   "id": "50b01f69-f030-4032-86a5-09c2fe9d31b5",
   "metadata": {},
   "outputs": [],
   "source": []
  },
  {
   "cell_type": "code",
   "execution_count": null,
   "id": "e23a8dd8-f904-4562-82bc-154f38e1866c",
   "metadata": {},
   "outputs": [],
   "source": []
  },
  {
   "cell_type": "code",
   "execution_count": null,
   "id": "707a2476-6b7b-4283-9188-267fe7fbdbe9",
   "metadata": {},
   "outputs": [],
   "source": []
  },
  {
   "cell_type": "code",
   "execution_count": null,
   "id": "d5751a4d-a742-42ae-8107-f4a02d4a7519",
   "metadata": {},
   "outputs": [],
   "source": []
  },
  {
   "cell_type": "code",
   "execution_count": 20,
   "id": "ca05f2aa-c2bb-4e60-b4f8-6e5e10bf53f4",
   "metadata": {},
   "outputs": [],
   "source": [
    "## dsitribute keys  in temp \n",
    "ecotype_id_temp = ecotypes['ecotype_id']\n",
    "\n",
    "## substract the ones that are done\n",
    "ecotype_id_temp = [i for i in ecotype_id_temp if i in [6939]]\n",
    "\n",
    "# Calculate how many ecotypes per API\n",
    "ecotypes_per_api = len(ecotype_id_temp) // len(temp_keys)\n",
    "\n",
    "# Distribute ecotypes to temp_keys\n",
    "key_assignments_temp = {api: [] for api in temp_keys}\n",
    "for i, ecotype in enumerate(ecotype_id_temp):\n",
    "    key_index = i // ecotypes_per_api\n",
    "\n",
    "    key_assignments_temp[temp_keys[key_index - 1]].append(ecotype)"
   ]
  },
  {
   "cell_type": "code",
   "execution_count": 32,
   "id": "1ef849de-d978-48b0-b0c2-b35f45d64035",
   "metadata": {},
   "outputs": [],
   "source": [
    "key_assignments_temp['321100:a317ade5-2fe1-4c47-b58e-e1b052be3b6f']= [6939]"
   ]
  },
  {
   "cell_type": "code",
   "execution_count": 52,
   "id": "f784ea22-f446-435f-93d6-72b4183c8a6f",
   "metadata": {},
   "outputs": [
    {
     "data": {
      "text/plain": [
       "{'321100:a317ade5-2fe1-4c47-b58e-e1b052be3b6f': [6939],\n",
       " '321102:31c8afc7-5139-4aec-ba9f-432084c01f8a': [],\n",
       " '321103:80aff11e-e4f6-42d7-98d5-4d98f29a3f6b': [],\n",
       " '321104:d5240f28-4a8e-46f4-97e6-bccd2f56bd1a': [],\n",
       " '307175:d8d04ba8-f834-463e-88a1-b6e15e086300': [],\n",
       " '302936:8b7b60c7-5f8b-426b-b0aa-343852ff87c9': [],\n",
       " '321313:8616e63d-d2b7-48e6-904b-7b71b365c722': []}"
      ]
     },
     "execution_count": 52,
     "metadata": {},
     "output_type": "execute_result"
    }
   ],
   "source": [
    "key_assignments_temp"
   ]
  },
  {
   "cell_type": "code",
   "execution_count": 25,
   "id": "32e43d61-6250-40af-aaf3-ef04ae95f057",
   "metadata": {
    "scrolled": true
   },
   "outputs": [
    {
     "data": {
      "text/plain": [
       "True"
      ]
     },
     "execution_count": 25,
     "metadata": {},
     "output_type": "execute_result"
    }
   ],
   "source": [
    "## check that all the ecotypes have been assigned \n",
    "total = []\n",
    "for i in range(7):\n",
    "    temp_keys[i]\n",
    "    ec = key_assignments_temp[temp_keys[i]]\n",
    "    total.extend(ec)\n",
    "set(np.array(ecotype_id_temp)) == set(np.array(total).flatten())"
   ]
  },
  {
   "cell_type": "code",
   "execution_count": 26,
   "id": "b1b8d461-6b6e-4d70-85f4-4c1b2c24095c",
   "metadata": {},
   "outputs": [
    {
     "data": {
      "text/plain": [
       "8"
      ]
     },
     "execution_count": 26,
     "metadata": {},
     "output_type": "execute_result"
    }
   ],
   "source": [
    "len(key_assignments_temp[temp_keys[i]])"
   ]
  },
  {
   "cell_type": "code",
   "execution_count": 37,
   "id": "66b3ec93-5e36-4624-ac3f-13bdbd4643d0",
   "metadata": {},
   "outputs": [],
   "source": [
    "# Serialize the dictionary to a pickle file\n",
    "with open('key_assignments_temp_left.pkl', 'wb') as file:\n",
    "    pickle.dump(key_assignments_temp, file)"
   ]
  },
  {
   "cell_type": "code",
   "execution_count": null,
   "id": "9822d0ad-1097-470e-9635-e62c24c40dd8",
   "metadata": {},
   "outputs": [],
   "source": []
  },
  {
   "cell_type": "code",
   "execution_count": 57,
   "id": "d7d9ce56-b173-48ed-b666-74fcb47e14d8",
   "metadata": {
    "scrolled": true
   },
   "outputs": [],
   "source": [
    "\n",
    "\n",
    "def submit_sbatch_jobs(key_to_use, variable, sbatch_path):\n",
    "        sbatch_command = f'''#!/bin/bash\n",
    "#SBATCH --job-name=\"{variable}\"\n",
    "#SBATCH --time=UNLIMITED\n",
    "#SBATCH --ntasks=1             \n",
    "#SBATCH --mem=8gb\n",
    "#SBATCH --output=batch_{variable}_%j.out\n",
    "#SBATCH --mail-user=tbellagio@carnegiescience.edu\n",
    "#SBATCH --mail-type=FAIL\n",
    "\n",
    "        source /home/tbellagio/miniforge3/etc/profile.d/conda.sh\n",
    "        export PATH=\"${{PATH}}:/home/username/bin\"\n",
    "        conda activate /home/tbellagio/miniforge3/envs/climate_download\n",
    "        cd /carnegie/nobackup/scratch/tbellagio/climate_grenet/\n",
    "        python api_request_ecotypes_left.py {key_to_use} {variable}\n",
    "        '''\n",
    "        \n",
    "        sbatch_file = f\"batch_{variable}.sh\"\n",
    "        with open(sbatch_file, 'w') as file:\n",
    "            file.write(sbatch_command)\n",
    "        \n",
    "        # Submit the job\n",
    "        subprocess.run(['sbatch', sbatch_file])"
   ]
  },
  {
   "cell_type": "code",
   "execution_count": 44,
   "id": "14964df3-5320-4c5d-ba69-18a33840ed4b",
   "metadata": {
    "scrolled": true
   },
   "outputs": [
    {
     "ename": "TypeError",
     "evalue": "list indices must be integers or slices, not str",
     "output_type": "error",
     "traceback": [
      "\u001b[0;31m---------------------------------------------------------------------------\u001b[0m",
      "\u001b[0;31mTypeError\u001b[0m                                 Traceback (most recent call last)",
      "Cell \u001b[0;32mIn[44], line 1\u001b[0m\n\u001b[0;32m----> 1\u001b[0m \u001b[43mprec_keys\u001b[49m\u001b[43m[\u001b[49m\u001b[38;5;124;43m'\u001b[39;49m\u001b[38;5;124;43m321314:bf6a8969-9d27-4edc-85f3-cddfddd2682e\u001b[39;49m\u001b[38;5;124;43m'\u001b[39;49m\u001b[43m]\u001b[49m\n",
      "\u001b[0;31mTypeError\u001b[0m: list indices must be integers or slices, not str"
     ]
    }
   ],
   "source": [
    "prec_keys['321314:bf6a8969-9d27-4edc-85f3-cddfddd2682e']"
   ]
  },
  {
   "cell_type": "code",
   "execution_count": 58,
   "id": "62c611e7-b6f9-4f3c-b9f8-91f8ae9e1454",
   "metadata": {},
   "outputs": [
    {
     "name": "stdout",
     "output_type": "stream",
     "text": [
      "Submitted batch job 7600\n"
     ]
    }
   ],
   "source": [
    "for key_to_use in prec_keys[:1]:\n",
    "    variable = 'total_precipitation'\n",
    "    sbatch_path = '/carnegie/nobackup/scratch/tbellagio/climate_grenet/output'\n",
    "    submit_sbatch_jobs(key_to_use, variable, sbatch_path)"
   ]
  },
  {
   "cell_type": "code",
   "execution_count": 59,
   "id": "01593ec6-a25d-4f86-b4cb-370e546fad55",
   "metadata": {},
   "outputs": [
    {
     "name": "stdout",
     "output_type": "stream",
     "text": [
      "Submitted batch job 7601\n"
     ]
    }
   ],
   "source": [
    "for key_to_use in temp_keys[:1]:\n",
    "    variable = '2m_temperature'\n",
    "    sbatch_path = '/carnegie/nobackup/scratch/tbellagio/climate_grenet/output'\n",
    "    submit_sbatch_jobs(key_to_use, variable, sbatch_path)"
   ]
  },
  {
   "cell_type": "code",
   "execution_count": null,
   "id": "4e0baa06-c3c2-4f16-b1e7-69dc6b842f66",
   "metadata": {},
   "outputs": [],
   "source": []
  },
  {
   "cell_type": "code",
   "execution_count": null,
   "id": "d98ab819-110f-41b2-9df4-4a1aeff738fa",
   "metadata": {},
   "outputs": [],
   "source": []
  },
  {
   "cell_type": "code",
   "execution_count": null,
   "id": "6d4ab734-04d8-4773-8711-f0c75f741694",
   "metadata": {},
   "outputs": [],
   "source": []
  },
  {
   "cell_type": "code",
   "execution_count": null,
   "id": "1a01a1f8-7c6e-44a7-8223-ffab1c2cce93",
   "metadata": {},
   "outputs": [],
   "source": []
  },
  {
   "cell_type": "code",
   "execution_count": null,
   "id": "9b4f52ae-88f8-4b6e-b179-024cf238a638",
   "metadata": {},
   "outputs": [],
   "source": []
  },
  {
   "cell_type": "code",
   "execution_count": null,
   "id": "9404557e-1bde-4663-9a00-5fc7988cec51",
   "metadata": {},
   "outputs": [],
   "source": []
  },
  {
   "cell_type": "code",
   "execution_count": null,
   "id": "9ddd9431-27f0-4f2c-9426-80a09f62cd87",
   "metadata": {},
   "outputs": [],
   "source": []
  },
  {
   "cell_type": "code",
   "execution_count": null,
   "id": "affd4925-775e-4b71-915f-d7bff64354ce",
   "metadata": {},
   "outputs": [],
   "source": []
  },
  {
   "cell_type": "code",
   "execution_count": null,
   "id": "c4d98c57-19c5-42c2-97e4-2b47bda3e492",
   "metadata": {},
   "outputs": [],
   "source": []
  },
  {
   "cell_type": "code",
   "execution_count": null,
   "id": "f9c08870-753b-4b13-8ca0-4b5d57e3df74",
   "metadata": {},
   "outputs": [],
   "source": []
  },
  {
   "cell_type": "code",
   "execution_count": null,
   "id": "5712b552-ee8b-400e-b5b8-729b3bc8e932",
   "metadata": {},
   "outputs": [],
   "source": []
  },
  {
   "cell_type": "code",
   "execution_count": null,
   "id": "5d8e27b9-b7a7-4a72-851d-953c6e8b3bc7",
   "metadata": {},
   "outputs": [],
   "source": []
  },
  {
   "cell_type": "code",
   "execution_count": null,
   "id": "4995bbf8-aa17-4489-81d5-388e38c7a6d4",
   "metadata": {},
   "outputs": [],
   "source": []
  },
  {
   "cell_type": "code",
   "execution_count": null,
   "id": "c3a19f9c-2cd0-4aba-b4d2-1c53d833f706",
   "metadata": {},
   "outputs": [],
   "source": []
  },
  {
   "cell_type": "code",
   "execution_count": null,
   "id": "b95107ef-b194-40cb-9609-b354c4accfbe",
   "metadata": {},
   "outputs": [],
   "source": []
  },
  {
   "cell_type": "code",
   "execution_count": null,
   "id": "a5d18b05-19f6-41e9-964a-9efa6afa91f2",
   "metadata": {},
   "outputs": [],
   "source": []
  },
  {
   "cell_type": "code",
   "execution_count": null,
   "id": "7cfd5558-3586-4027-b84a-e045916c62b3",
   "metadata": {},
   "outputs": [],
   "source": [
    "\n",
    "    sites = pd.read_csv('sites.csv')\n",
    "    missing_sites = sites[sites['site'].isin([5, 11, 21, 27, 35, 45, 50, 55, 60])]\n",
    "    sites = missing_sites.copy()\n",
    "    ####\n",
    "    \n",
    "    total_sites = len(sites)\n",
    "    batch_size = 5 ## becasue i need less than 10 running simultaneosly \n",
    "    sbatch_path = '/carnegie/nobackup/scratch/tbellagio/climate_grenet/output'\n",
    "\n",
    "    submit_sbatch_jobs(batch_size, total_sites, script_path, sbatch_path)"
   ]
  },
  {
   "cell_type": "code",
   "execution_count": 9,
   "id": "9d34ab7b-1b32-4512-b6b3-9ba7b023c453",
   "metadata": {
    "scrolled": true
   },
   "outputs": [
    {
     "name": "stdout",
     "output_type": "stream",
     "text": [
      "0\n",
      "0\n",
      "3    4\n",
      "Name: site, dtype: int64\n",
      "Submitted batch job 259\n"
     ]
    }
   ],
   "source": [
    "import subprocess\n",
    "import pandas as pd\n",
    "\n",
    "def submit_sbatch_jobs(batch_size, total_sites, script_path, sbatch_path):\n",
    "    for i in range(0, total_sites, batch_size):\n",
    "        print(i)\n",
    "        end_index = min(i + batch_size - 1, total_sites - 1)\n",
    "        print(end_index)\n",
    "        ###cor \n",
    "        sites = pd.read_csv('sites.csv')\n",
    "        missing_sites = sites[sites['site'].isin([4])]\n",
    "        sites = missing_sites.copy()\n",
    "        sites_batch = sites.iloc[i:end_index+1]['site']\n",
    "        print(sites_batch)\n",
    "        ###cor \n",
    "        sbatch_command = f'''#!/bin/bash\n",
    "#SBATCH --job-name=\"batch_{i}\"\n",
    "#SBATCH --time=72:00:00\n",
    "#SBATCH --nodes=1             \n",
    "#SBATCH --ntasks=1             \n",
    "#SBATCH --cpus-per-task=2      \n",
    "#SBATCH --mem=8G               \n",
    "#SBATCH --output= \"{sbatch_path}/batch_{i}_prec_output.txt\"\n",
    "#SBATCH --mail-user=tbellagio@carnegiescience.edu\n",
    "#SBATCH --mail-type=FAIL\n",
    "        \n",
    "        module load python/3.11_conda\n",
    "        conda activate /home/tbellagio/miniforge3/envs/climate_download\n",
    "        python {script_path} {i} {end_index}\n",
    "        '''\n",
    "        \n",
    "        sbatch_file = f\"sbatch_batch_{i}_prec.sh\"\n",
    "        with open(sbatch_file, 'w') as file:\n",
    "            file.write(sbatch_command)\n",
    "        \n",
    "        # Submit the job\n",
    "        subprocess.run(['sbatch', sbatch_file])\n",
    "\n",
    "def main():\n",
    "    ####\n",
    "    #### correcting for the indexing problem\n",
    "    sites = pd.read_csv('sites.csv')\n",
    "    missing_sites = sites[sites['site'].isin([4])]\n",
    "    sites = missing_sites.copy()\n",
    "    ####\n",
    "    \n",
    "    total_sites = len(sites)\n",
    "    batch_size = 5 ## becasue i need less than 10 running simultaneosly \n",
    "    script_path = '/carnegie/nobackup/scratch/tbellagio/climate_grenet/retrieve_and_process_data_sites_prec_1api_era5land.py'\n",
    "    sbatch_path = '/carnegie/nobackup/scratch/tbellagio/climate_grenet/output'\n",
    "\n",
    "    submit_sbatch_jobs(batch_size, total_sites, script_path, sbatch_path)\n",
    "\n",
    "if __name__ == '__main__':\n",
    "    main()"
   ]
  },
  {
   "cell_type": "code",
   "execution_count": null,
   "id": "047ec330-83f7-42ab-b08c-e8a0035bb093",
   "metadata": {},
   "outputs": [],
   "source": [
    "[2018,2019,2020,2021]"
   ]
  },
  {
   "cell_type": "code",
   "execution_count": null,
   "id": "e6811b9c-3c6b-4ad0-a037-031c2e6c9e89",
   "metadata": {},
   "outputs": [],
   "source": []
  },
  {
   "cell_type": "code",
   "execution_count": null,
   "id": "796f0f6a-4383-4b17-bb94-8f84691ba9d4",
   "metadata": {},
   "outputs": [],
   "source": [
    "## missing sites: \n",
    "{5, 11, 21, 27, 35, 45, 50, 55, 60}\n",
    "\n",
    "Submitted batch job 244\n",
    "Submitted batch job 245\n",
    "Submitted batch job 246\n",
    "Submitted batch job 247\n",
    "\n"
   ]
  },
  {
   "cell_type": "code",
   "execution_count": 5,
   "id": "5ee7b9e2-4cf8-47b5-a490-8611542f4d7e",
   "metadata": {},
   "outputs": [
    {
     "data": {
      "text/html": [
       "<div>\n",
       "<style scoped>\n",
       "    .dataframe tbody tr th:only-of-type {\n",
       "        vertical-align: middle;\n",
       "    }\n",
       "\n",
       "    .dataframe tbody tr th {\n",
       "        vertical-align: top;\n",
       "    }\n",
       "\n",
       "    .dataframe thead th {\n",
       "        text-align: right;\n",
       "    }\n",
       "</style>\n",
       "<table border=\"1\" class=\"dataframe\">\n",
       "  <thead>\n",
       "    <tr style=\"text-align: right;\">\n",
       "      <th></th>\n",
       "      <th>Unnamed: 0</th>\n",
       "      <th>ecotypeid</th>\n",
       "      <th>source</th>\n",
       "      <th>longitude</th>\n",
       "      <th>latitude</th>\n",
       "      <th>csnumber</th>\n",
       "      <th>name</th>\n",
       "      <th>country</th>\n",
       "      <th>weightmasterseed</th>\n",
       "      <th>estimatedseednumber</th>\n",
       "      <th>seedsperplot</th>\n",
       "    </tr>\n",
       "  </thead>\n",
       "  <tbody>\n",
       "    <tr>\n",
       "      <th>0</th>\n",
       "      <td>0</td>\n",
       "      <td>159</td>\n",
       "      <td>1001G</td>\n",
       "      <td>3.933330</td>\n",
       "      <td>47.350000</td>\n",
       "      <td>CS77070</td>\n",
       "      <td>MAR2-3</td>\n",
       "      <td>FRA</td>\n",
       "      <td>0.3004</td>\n",
       "      <td>16638</td>\n",
       "      <td>17.331250</td>\n",
       "    </tr>\n",
       "    <tr>\n",
       "      <th>1</th>\n",
       "      <td>1</td>\n",
       "      <td>265</td>\n",
       "      <td>1001G</td>\n",
       "      <td>-1.166670</td>\n",
       "      <td>44.650000</td>\n",
       "      <td>CS77198</td>\n",
       "      <td>PYL-6</td>\n",
       "      <td>FRA</td>\n",
       "      <td>0.3250</td>\n",
       "      <td>18000</td>\n",
       "      <td>18.750000</td>\n",
       "    </tr>\n",
       "    <tr>\n",
       "      <th>2</th>\n",
       "      <td>2</td>\n",
       "      <td>763</td>\n",
       "      <td>1001G</td>\n",
       "      <td>74.366700</td>\n",
       "      <td>42.300000</td>\n",
       "      <td>CS76522</td>\n",
       "      <td>Kar-1</td>\n",
       "      <td>KGZ</td>\n",
       "      <td>0.1827</td>\n",
       "      <td>10119</td>\n",
       "      <td>10.540625</td>\n",
       "    </tr>\n",
       "    <tr>\n",
       "      <th>3</th>\n",
       "      <td>3</td>\n",
       "      <td>765</td>\n",
       "      <td>1001G</td>\n",
       "      <td>73.400000</td>\n",
       "      <td>42.183300</td>\n",
       "      <td>CS76607</td>\n",
       "      <td>Sus-1</td>\n",
       "      <td>KGZ</td>\n",
       "      <td>0.2994</td>\n",
       "      <td>16582</td>\n",
       "      <td>17.272917</td>\n",
       "    </tr>\n",
       "    <tr>\n",
       "      <th>4</th>\n",
       "      <td>4</td>\n",
       "      <td>766</td>\n",
       "      <td>1001G</td>\n",
       "      <td>73.633300</td>\n",
       "      <td>42.583300</td>\n",
       "      <td>CS76473</td>\n",
       "      <td>Dja-1</td>\n",
       "      <td>KGZ</td>\n",
       "      <td>0.3004</td>\n",
       "      <td>16638</td>\n",
       "      <td>17.331250</td>\n",
       "    </tr>\n",
       "    <tr>\n",
       "      <th>...</th>\n",
       "      <td>...</td>\n",
       "      <td>...</td>\n",
       "      <td>...</td>\n",
       "      <td>...</td>\n",
       "      <td>...</td>\n",
       "      <td>...</td>\n",
       "      <td>...</td>\n",
       "      <td>...</td>\n",
       "      <td>...</td>\n",
       "      <td>...</td>\n",
       "      <td>...</td>\n",
       "    </tr>\n",
       "    <tr>\n",
       "      <th>226</th>\n",
       "      <td>226</td>\n",
       "      <td>10011</td>\n",
       "      <td>1001G</td>\n",
       "      <td>45.362200</td>\n",
       "      <td>39.869200</td>\n",
       "      <td>CS76394</td>\n",
       "      <td>Yeg-1</td>\n",
       "      <td>ARM</td>\n",
       "      <td>0.0489</td>\n",
       "      <td>2708</td>\n",
       "      <td>2.820833</td>\n",
       "    </tr>\n",
       "    <tr>\n",
       "      <th>227</th>\n",
       "      <td>227</td>\n",
       "      <td>10013</td>\n",
       "      <td>1001G</td>\n",
       "      <td>48.613100</td>\n",
       "      <td>38.740600</td>\n",
       "      <td>CS76388</td>\n",
       "      <td>Lerik1-3</td>\n",
       "      <td>AZE</td>\n",
       "      <td>0.1704</td>\n",
       "      <td>9438</td>\n",
       "      <td>9.831250</td>\n",
       "    </tr>\n",
       "    <tr>\n",
       "      <th>228</th>\n",
       "      <td>228</td>\n",
       "      <td>10014</td>\n",
       "      <td>1001G</td>\n",
       "      <td>48.799200</td>\n",
       "      <td>38.653600</td>\n",
       "      <td>CS76387</td>\n",
       "      <td>Xan-1</td>\n",
       "      <td>AZE</td>\n",
       "      <td>0.3026</td>\n",
       "      <td>16760</td>\n",
       "      <td>17.458333</td>\n",
       "    </tr>\n",
       "    <tr>\n",
       "      <th>229</th>\n",
       "      <td>229</td>\n",
       "      <td>100001</td>\n",
       "      <td>israel</td>\n",
       "      <td>35.797398</td>\n",
       "      <td>33.093931</td>\n",
       "      <td>NaN</td>\n",
       "      <td>Ziv-24208</td>\n",
       "      <td>ISR</td>\n",
       "      <td>0.1032</td>\n",
       "      <td>5716</td>\n",
       "      <td>5.954167</td>\n",
       "    </tr>\n",
       "    <tr>\n",
       "      <th>230</th>\n",
       "      <td>230</td>\n",
       "      <td>100002</td>\n",
       "      <td>israel</td>\n",
       "      <td>35.788213</td>\n",
       "      <td>33.176177</td>\n",
       "      <td>NaN</td>\n",
       "      <td>Her-</td>\n",
       "      <td>ISR</td>\n",
       "      <td>0.0611</td>\n",
       "      <td>3384</td>\n",
       "      <td>3.525000</td>\n",
       "    </tr>\n",
       "  </tbody>\n",
       "</table>\n",
       "<p>231 rows × 11 columns</p>\n",
       "</div>"
      ],
      "text/plain": [
       "     Unnamed: 0  ecotypeid  source  longitude   latitude csnumber       name  \\\n",
       "0             0        159   1001G   3.933330  47.350000  CS77070     MAR2-3   \n",
       "1             1        265   1001G  -1.166670  44.650000  CS77198      PYL-6   \n",
       "2             2        763   1001G  74.366700  42.300000  CS76522      Kar-1   \n",
       "3             3        765   1001G  73.400000  42.183300  CS76607      Sus-1   \n",
       "4             4        766   1001G  73.633300  42.583300  CS76473      Dja-1   \n",
       "..          ...        ...     ...        ...        ...      ...        ...   \n",
       "226         226      10011   1001G  45.362200  39.869200  CS76394      Yeg-1   \n",
       "227         227      10013   1001G  48.613100  38.740600  CS76388   Lerik1-3   \n",
       "228         228      10014   1001G  48.799200  38.653600  CS76387      Xan-1   \n",
       "229         229     100001  israel  35.797398  33.093931      NaN  Ziv-24208   \n",
       "230         230     100002  israel  35.788213  33.176177      NaN       Her-   \n",
       "\n",
       "    country  weightmasterseed  estimatedseednumber  seedsperplot  \n",
       "0       FRA            0.3004                16638     17.331250  \n",
       "1       FRA            0.3250                18000     18.750000  \n",
       "2       KGZ            0.1827                10119     10.540625  \n",
       "3       KGZ            0.2994                16582     17.272917  \n",
       "4       KGZ            0.3004                16638     17.331250  \n",
       "..      ...               ...                  ...           ...  \n",
       "226     ARM            0.0489                 2708      2.820833  \n",
       "227     AZE            0.1704                 9438      9.831250  \n",
       "228     AZE            0.3026                16760     17.458333  \n",
       "229     ISR            0.1032                 5716      5.954167  \n",
       "230     ISR            0.0611                 3384      3.525000  \n",
       "\n",
       "[231 rows x 11 columns]"
      ]
     },
     "execution_count": 5,
     "metadata": {},
     "output_type": "execute_result"
    }
   ],
   "source": [
    "ecotypes"
   ]
  },
  {
   "cell_type": "code",
   "execution_count": null,
   "id": "83aa6800-d111-4d25-9def-71137c22bf58",
   "metadata": {},
   "outputs": [],
   "source": []
  },
  {
   "cell_type": "code",
   "execution_count": 10,
   "id": "55f04c7f-0a9b-48c8-937b-18d44eb7f295",
   "metadata": {},
   "outputs": [
    {
     "name": "stdout",
     "output_type": "stream",
     "text": [
      "0\n",
      "23\n",
      "0      159\n",
      "1      265\n",
      "2      763\n",
      "3      765\n",
      "4      766\n",
      "5      768\n",
      "6      772\n",
      "7     5151\n",
      "8     5165\n",
      "9     5768\n",
      "10    5772\n",
      "11    5784\n",
      "12    5811\n",
      "13    6013\n",
      "14    6025\n",
      "15    6040\n",
      "16    6073\n",
      "17    6074\n",
      "18    6108\n",
      "19    6150\n",
      "20    6177\n",
      "21    6180\n",
      "22    6184\n",
      "23    6188\n",
      "Name: ecotypeid, dtype: int64\n",
      "Submitted batch job 777\n",
      "24\n",
      "47\n",
      "24    6195\n",
      "25    6209\n",
      "26    6216\n",
      "27    6243\n",
      "28    6244\n",
      "29    6898\n",
      "30    6911\n",
      "31    6915\n",
      "32    6929\n",
      "33    6932\n",
      "34    6938\n",
      "35    6939\n",
      "36    6940\n",
      "37    6945\n",
      "38    6958\n",
      "39    6961\n",
      "40    6963\n",
      "41    6979\n",
      "42    6987\n",
      "43    7000\n",
      "44    7002\n",
      "45    7003\n",
      "46    7008\n",
      "47    7013\n",
      "Name: ecotypeid, dtype: int64\n",
      "Submitted batch job 778\n",
      "48\n",
      "71\n",
      "48    7025\n",
      "49    7028\n",
      "50    7031\n",
      "51    7036\n",
      "52    7062\n",
      "53    7063\n",
      "54    7067\n",
      "55    7071\n",
      "56    7077\n",
      "57    7092\n",
      "58    7103\n",
      "59    7106\n",
      "60    7125\n",
      "61    7126\n",
      "62    7127\n",
      "63    7143\n",
      "64    7164\n",
      "65    7165\n",
      "66    7186\n",
      "67    7203\n",
      "68    7209\n",
      "69    7217\n",
      "70    7218\n",
      "71    7244\n",
      "Name: ecotypeid, dtype: int64\n",
      "Submitted batch job 779\n",
      "72\n",
      "95\n",
      "72    7255\n",
      "73    7268\n",
      "74    7273\n",
      "75    7276\n",
      "76    7282\n",
      "77    7287\n",
      "78    7288\n",
      "79    7296\n",
      "80    7298\n",
      "81    7316\n",
      "82    7323\n",
      "83    7333\n",
      "84    7346\n",
      "85    7347\n",
      "86    7353\n",
      "87    7372\n",
      "88    7378\n",
      "89    7384\n",
      "90    7394\n",
      "91    7404\n",
      "92    7411\n",
      "93    7521\n",
      "94    8214\n",
      "95    8230\n",
      "Name: ecotypeid, dtype: int64\n",
      "Submitted batch job 780\n",
      "96\n",
      "119\n",
      "96     8231\n",
      "97     8240\n",
      "98     8247\n",
      "99     8249\n",
      "100    8311\n",
      "101    8312\n",
      "102    8351\n",
      "103    8354\n",
      "104    8357\n",
      "105    8376\n",
      "106    8387\n",
      "107    9057\n",
      "108    9058\n",
      "109    9323\n",
      "110    9371\n",
      "111    9394\n",
      "112    9416\n",
      "113    9427\n",
      "114    9470\n",
      "115    9481\n",
      "116    9506\n",
      "117    9507\n",
      "118    9510\n",
      "119    9512\n",
      "Name: ecotypeid, dtype: int64\n",
      "Submitted batch job 781\n",
      "120\n",
      "143\n",
      "120    9517\n",
      "121    9518\n",
      "122    9521\n",
      "123    9522\n",
      "124    9523\n",
      "125    9524\n",
      "126    9526\n",
      "127    9527\n",
      "128    9528\n",
      "129    9529\n",
      "130    9534\n",
      "131    9535\n",
      "132    9537\n",
      "133    9539\n",
      "134    9542\n",
      "135    9544\n",
      "136    9547\n",
      "137    9548\n",
      "138    9549\n",
      "139    9555\n",
      "140    9557\n",
      "141    9559\n",
      "142    9560\n",
      "143    9562\n",
      "Name: ecotypeid, dtype: int64\n",
      "Submitted batch job 782\n",
      "144\n",
      "167\n",
      "144    9564\n",
      "145    9565\n",
      "146    9574\n",
      "147    9577\n",
      "148    9579\n",
      "149    9584\n",
      "150    9586\n",
      "151    9587\n",
      "152    9591\n",
      "153    9594\n",
      "154    9595\n",
      "155    9596\n",
      "156    9597\n",
      "157    9598\n",
      "158    9600\n",
      "159    9602\n",
      "160    9606\n",
      "161    9612\n",
      "162    9619\n",
      "163    9625\n",
      "164    9629\n",
      "165    9632\n",
      "166    9634\n",
      "167    9637\n",
      "Name: ecotypeid, dtype: int64\n",
      "Submitted batch job 783\n",
      "168\n",
      "191\n",
      "168    9640\n",
      "169    9643\n",
      "170    9649\n",
      "171    9653\n",
      "172    9657\n",
      "173    9659\n",
      "174    9697\n",
      "175    9698\n",
      "176    9699\n",
      "177    9713\n",
      "178    9716\n",
      "179    9719\n",
      "180    9723\n",
      "181    9726\n",
      "182    9736\n",
      "183    9737\n",
      "184    9739\n",
      "185    9741\n",
      "186    9743\n",
      "187    9748\n",
      "188    9749\n",
      "189    9758\n",
      "190    9759\n",
      "191    9761\n",
      "Name: ecotypeid, dtype: int64\n",
      "Submitted batch job 784\n",
      "192\n",
      "215\n",
      "192    9764\n",
      "193    9766\n",
      "194    9769\n",
      "195    9774\n",
      "196    9775\n",
      "197    9779\n",
      "198    9781\n",
      "199    9782\n",
      "200    9784\n",
      "201    9803\n",
      "202    9804\n",
      "203    9813\n",
      "204    9814\n",
      "205    9820\n",
      "206    9837\n",
      "207    9857\n",
      "208    9879\n",
      "209    9910\n",
      "210    9920\n",
      "211    9921\n",
      "212    9925\n",
      "213    9933\n",
      "214    9940\n",
      "215    9941\n",
      "Name: ecotypeid, dtype: int64\n",
      "Submitted batch job 785\n",
      "216\n",
      "230\n",
      "216      9944\n",
      "217      9947\n",
      "218      9965\n",
      "219      9966\n",
      "220      9977\n",
      "221      9978\n",
      "222      9985\n",
      "223      9992\n",
      "224     10002\n",
      "225     10006\n",
      "226     10011\n",
      "227     10013\n",
      "228     10014\n",
      "229    100001\n",
      "230    100002\n",
      "Name: ecotypeid, dtype: int64\n",
      "Submitted batch job 786\n"
     ]
    }
   ],
   "source": [
    "### ecotypes\n",
    "import subprocess\n",
    "import pandas as pd\n",
    "\n",
    "def submit_sbatch_jobs(batch_size, total_sites, script_path, sbatch_path):\n",
    "    for i in range(0, total_sites, batch_size):\n",
    "        print(i)\n",
    "        end_index = min(i + batch_size - 1, total_sites - 1)\n",
    "        print(end_index)\n",
    "        ###cor \n",
    "        ecotypes = pd.read_csv('ecotypes_data.csv')\n",
    "        ecotypes_batch = ecotypes.iloc[i:end_index+1]['ecotypeid']\n",
    "        print(ecotypes_batch)\n",
    "        ###cor \n",
    "        sbatch_command = f'''#!/bin/bash\n",
    "        #SBATCH --job-name=\"batch_{i}\"\n",
    "        #SBATCH --time=72:00:00\n",
    "        #SBATCH --nodes=1             \n",
    "        #SBATCH --ntasks=1             \n",
    "        #SBATCH --cpus-per-task=2      \n",
    "        #SBATCH --mem-per-cpu=4GB\n",
    "        #SBATCH --output= \"{sbatch_path}/batch_{i}_prec_ecotypes_output.txt\"\n",
    "        #SBATCH --mail-user=tbellagio@carnegiescience.edu\n",
    "        #SBATCH --mail-type=FAIL\n",
    "        \n",
    "        module load python/3.11_conda\n",
    "        conda activate /home/tbellagio/miniforge3/envs/climate_download\n",
    "        python {script_path} {i} {end_index}\n",
    "        '''\n",
    "        \n",
    "        sbatch_file = f\"sbatch_batch_{i}_ecotypes_prec.sh\"\n",
    "        with open(sbatch_file, 'w') as file:\n",
    "            file.write(sbatch_command)\n",
    "        \n",
    "        # Submit the job\n",
    "        subprocess.run(['sbatch', sbatch_file])\n",
    "\n",
    "def main():\n",
    "    ####\n",
    "    ecotypes = pd.read_csv('ecotypes_data.csv')\n",
    "    ####\n",
    "    \n",
    "    total_ecotypes = len(ecotypes)\n",
    "    batch_size = 24 ## becasue i need less than 10 running simultaneosly \n",
    "    script_path = '/carnegie/nobackup/scratch/tbellagio/climate_grenet/retrieve_and_process_data_ecotypes_prec_1api_era5land.py'\n",
    "    sbatch_path = '/carnegie/nobackup/scratch/tbellagio/climate_grenet/output'\n",
    "\n",
    "    submit_sbatch_jobs(batch_size, total_ecotypes, script_path, sbatch_path)\n",
    "\n",
    "if __name__ == '__main__':\n",
    "    main()"
   ]
  },
  {
   "cell_type": "code",
   "execution_count": null,
   "id": "fda98399-14b0-4e3a-8684-c2b600110811",
   "metadata": {},
   "outputs": [],
   "source": []
  },
  {
   "cell_type": "code",
   "execution_count": 6,
   "id": "2f5f0a4b-caed-421f-a613-eaf912b6a656",
   "metadata": {},
   "outputs": [
    {
     "data": {
      "text/plain": [
       "9.625"
      ]
     },
     "execution_count": 6,
     "metadata": {},
     "output_type": "execute_result"
    }
   ],
   "source": [
    "231/24"
   ]
  },
  {
   "cell_type": "code",
   "execution_count": 8,
   "id": "e8eb7272-bc9c-4534-983b-9a8e40058d4a",
   "metadata": {},
   "outputs": [
    {
     "name": "stdout",
     "output_type": "stream",
     "text": [
      "0\n",
      "23\n",
      "0      159\n",
      "1      265\n",
      "2      763\n",
      "3      765\n",
      "4      766\n",
      "5      768\n",
      "6      772\n",
      "7     5151\n",
      "8     5165\n",
      "9     5768\n",
      "10    5772\n",
      "11    5784\n",
      "12    5811\n",
      "13    6013\n",
      "14    6025\n",
      "15    6040\n",
      "16    6073\n",
      "17    6074\n",
      "18    6108\n",
      "19    6150\n",
      "20    6177\n",
      "21    6180\n",
      "22    6184\n",
      "23    6188\n",
      "Name: ecotypeid, dtype: int64\n",
      "Submitted batch job 757\n",
      "24\n",
      "47\n",
      "24    6195\n",
      "25    6209\n",
      "26    6216\n",
      "27    6243\n",
      "28    6244\n",
      "29    6898\n",
      "30    6911\n",
      "31    6915\n",
      "32    6929\n",
      "33    6932\n",
      "34    6938\n",
      "35    6939\n",
      "36    6940\n",
      "37    6945\n",
      "38    6958\n",
      "39    6961\n",
      "40    6963\n",
      "41    6979\n",
      "42    6987\n",
      "43    7000\n",
      "44    7002\n",
      "45    7003\n",
      "46    7008\n",
      "47    7013\n",
      "Name: ecotypeid, dtype: int64\n",
      "Submitted batch job 758\n",
      "48\n",
      "71\n",
      "48    7025\n",
      "49    7028\n",
      "50    7031\n",
      "51    7036\n",
      "52    7062\n",
      "53    7063\n",
      "54    7067\n",
      "55    7071\n",
      "56    7077\n",
      "57    7092\n",
      "58    7103\n",
      "59    7106\n",
      "60    7125\n",
      "61    7126\n",
      "62    7127\n",
      "63    7143\n",
      "64    7164\n",
      "65    7165\n",
      "66    7186\n",
      "67    7203\n",
      "68    7209\n",
      "69    7217\n",
      "70    7218\n",
      "71    7244\n",
      "Name: ecotypeid, dtype: int64\n",
      "Submitted batch job 759\n",
      "72\n",
      "95\n",
      "72    7255\n",
      "73    7268\n",
      "74    7273\n",
      "75    7276\n",
      "76    7282\n",
      "77    7287\n",
      "78    7288\n",
      "79    7296\n",
      "80    7298\n",
      "81    7316\n",
      "82    7323\n",
      "83    7333\n",
      "84    7346\n",
      "85    7347\n",
      "86    7353\n",
      "87    7372\n",
      "88    7378\n",
      "89    7384\n",
      "90    7394\n",
      "91    7404\n",
      "92    7411\n",
      "93    7521\n",
      "94    8214\n",
      "95    8230\n",
      "Name: ecotypeid, dtype: int64\n",
      "Submitted batch job 760\n",
      "96\n",
      "119\n",
      "96     8231\n",
      "97     8240\n",
      "98     8247\n",
      "99     8249\n",
      "100    8311\n",
      "101    8312\n",
      "102    8351\n",
      "103    8354\n",
      "104    8357\n",
      "105    8376\n",
      "106    8387\n",
      "107    9057\n",
      "108    9058\n",
      "109    9323\n",
      "110    9371\n",
      "111    9394\n",
      "112    9416\n",
      "113    9427\n",
      "114    9470\n",
      "115    9481\n",
      "116    9506\n",
      "117    9507\n",
      "118    9510\n",
      "119    9512\n",
      "Name: ecotypeid, dtype: int64\n",
      "Submitted batch job 761\n",
      "120\n",
      "143\n",
      "120    9517\n",
      "121    9518\n",
      "122    9521\n",
      "123    9522\n",
      "124    9523\n",
      "125    9524\n",
      "126    9526\n",
      "127    9527\n",
      "128    9528\n",
      "129    9529\n",
      "130    9534\n",
      "131    9535\n",
      "132    9537\n",
      "133    9539\n",
      "134    9542\n",
      "135    9544\n",
      "136    9547\n",
      "137    9548\n",
      "138    9549\n",
      "139    9555\n",
      "140    9557\n",
      "141    9559\n",
      "142    9560\n",
      "143    9562\n",
      "Name: ecotypeid, dtype: int64\n",
      "Submitted batch job 762\n",
      "144\n",
      "167\n",
      "144    9564\n",
      "145    9565\n",
      "146    9574\n",
      "147    9577\n",
      "148    9579\n",
      "149    9584\n",
      "150    9586\n",
      "151    9587\n",
      "152    9591\n",
      "153    9594\n",
      "154    9595\n",
      "155    9596\n",
      "156    9597\n",
      "157    9598\n",
      "158    9600\n",
      "159    9602\n",
      "160    9606\n",
      "161    9612\n",
      "162    9619\n",
      "163    9625\n",
      "164    9629\n",
      "165    9632\n",
      "166    9634\n",
      "167    9637\n",
      "Name: ecotypeid, dtype: int64\n",
      "Submitted batch job 763\n",
      "168\n",
      "191\n",
      "168    9640\n",
      "169    9643\n",
      "170    9649\n",
      "171    9653\n",
      "172    9657\n",
      "173    9659\n",
      "174    9697\n",
      "175    9698\n",
      "176    9699\n",
      "177    9713\n",
      "178    9716\n",
      "179    9719\n",
      "180    9723\n",
      "181    9726\n",
      "182    9736\n",
      "183    9737\n",
      "184    9739\n",
      "185    9741\n",
      "186    9743\n",
      "187    9748\n",
      "188    9749\n",
      "189    9758\n",
      "190    9759\n",
      "191    9761\n",
      "Name: ecotypeid, dtype: int64\n",
      "Submitted batch job 764\n",
      "192\n",
      "215\n",
      "192    9764\n",
      "193    9766\n",
      "194    9769\n",
      "195    9774\n",
      "196    9775\n",
      "197    9779\n",
      "198    9781\n",
      "199    9782\n",
      "200    9784\n",
      "201    9803\n",
      "202    9804\n",
      "203    9813\n",
      "204    9814\n",
      "205    9820\n",
      "206    9837\n",
      "207    9857\n",
      "208    9879\n",
      "209    9910\n",
      "210    9920\n",
      "211    9921\n",
      "212    9925\n",
      "213    9933\n",
      "214    9940\n",
      "215    9941\n",
      "Name: ecotypeid, dtype: int64\n",
      "Submitted batch job 765\n",
      "216\n",
      "230\n",
      "216      9944\n",
      "217      9947\n",
      "218      9965\n",
      "219      9966\n",
      "220      9977\n",
      "221      9978\n",
      "222      9985\n",
      "223      9992\n",
      "224     10002\n",
      "225     10006\n",
      "226     10011\n",
      "227     10013\n",
      "228     10014\n",
      "229    100001\n",
      "230    100002\n",
      "Name: ecotypeid, dtype: int64\n",
      "Submitted batch job 766\n"
     ]
    }
   ],
   "source": [
    "### ecotypes\n",
    "import subprocess\n",
    "import pandas as pd\n",
    "\n",
    "def submit_sbatch_jobs(batch_size, total_sites, script_path, sbatch_path):\n",
    "    for i in range(0, total_sites, batch_size):\n",
    "        print(i)\n",
    "        end_index = min(i + batch_size - 1, total_sites - 1)\n",
    "        print(end_index)\n",
    "        ###cor \n",
    "        ecotypes = pd.read_csv('ecotypes_data.csv')\n",
    "        ecotypes_batch = ecotypes.iloc[i:end_index+1]['ecotypeid']\n",
    "        print(ecotypes_batch)\n",
    "        ###cor \n",
    "        sbatch_command = f'''#!/bin/bash\n",
    "        #SBATCH --job-name=\"batch_{i}\"\n",
    "        #SBATCH --time=7:00:00:00\n",
    "        #SBATCH --nodes=1             \n",
    "        #SBATCH --ntasks=1             \n",
    "        #SBATCH --cpus-per-task=2      \n",
    "        #SBATCH --mem-per-cpu=4GB\n",
    "        #SBATCH --output= \"{sbatch_path}/batch_{i}_temp_ecotypes_output.txt\"\n",
    "        #SBATCH --mail-user=tbellagio@carnegiescience.edu\n",
    "        #SBATCH --mail-type=FAIL\n",
    "        \n",
    "        module load python/3.11_conda\n",
    "        conda activate /home/tbellagio/miniforge3/envs/climate_download\n",
    "        python {script_path} {i} {end_index}\n",
    "        '''\n",
    "        \n",
    "        sbatch_file = f\"sbatch_batch_{i}_ecotypes_temp.sh\"\n",
    "        with open(sbatch_file, 'w') as file:\n",
    "            file.write(sbatch_command)\n",
    "        \n",
    "        # Submit the job\n",
    "        subprocess.run(['sbatch', sbatch_file])\n",
    "\n",
    "def main():\n",
    "    ####\n",
    "    ecotypes = pd.read_csv('ecotypes_data.csv')\n",
    "    ####\n",
    "    \n",
    "    total_ecotypes = len(ecotypes)\n",
    "    batch_size = 24 ## becasue i need less than 10 running simultaneosly \n",
    "    script_path = '/carnegie/nobackup/scratch/tbellagio/climate_grenet/retrieve_and_process_data_ecotypes_temp_2api_era5land.py'\n",
    "    sbatch_path = '/carnegie/nobackup/scratch/tbellagio/climate_grenet/output'\n",
    "\n",
    "    submit_sbatch_jobs(batch_size, total_ecotypes, script_path, sbatch_path)\n",
    "\n",
    "if __name__ == '__main__':\n",
    "    main()"
   ]
  },
  {
   "cell_type": "code",
   "execution_count": null,
   "id": "2a485e15-1675-4e5f-8c16-073c928a1670",
   "metadata": {},
   "outputs": [],
   "source": []
  },
  {
   "cell_type": "code",
   "execution_count": null,
   "id": "951778cc-8355-49a5-992b-9759d61b9bed",
   "metadata": {},
   "outputs": [],
   "source": []
  },
  {
   "cell_type": "code",
   "execution_count": null,
   "id": "037f8cf8-e6c1-4455-a576-28d5c7d6d3b5",
   "metadata": {},
   "outputs": [],
   "source": []
  },
  {
   "cell_type": "code",
   "execution_count": null,
   "id": "bdb0ff0f-55fc-479b-b539-4bd2501625e8",
   "metadata": {},
   "outputs": [],
   "source": []
  },
  {
   "cell_type": "code",
   "execution_count": null,
   "id": "a9fcbe3c-b745-46b3-ae41-02c00307700e",
   "metadata": {},
   "outputs": [],
   "source": []
  },
  {
   "cell_type": "code",
   "execution_count": null,
   "id": "6acfc5e6-d26b-4e98-b187-4032ac8f9a48",
   "metadata": {},
   "outputs": [],
   "source": [
    "sites = pd.read_csv('sites.csv')\n",
    "sites_batch = sites.iloc[start_index:end_index]"
   ]
  },
  {
   "cell_type": "code",
   "execution_count": 13,
   "id": "bbcdc0b8-e5a6-4152-a516-4407e4c30d70",
   "metadata": {},
   "outputs": [
    {
     "name": "stdout",
     "output_type": "stream",
     "text": [
      "/carnegie/nobackup/scratch/tbellagio/climate_grenet\n"
     ]
    }
   ],
   "source": [
    "!pwd"
   ]
  },
  {
   "cell_type": "code",
   "execution_count": null,
   "id": "2f9995dd-5bdc-47b2-a7bc-37e2955a58df",
   "metadata": {},
   "outputs": [],
   "source": [
    "/carnegie/nobackup/scratch/tbellagio/climate_grenet/retrieve_and_process_data_ecotypes_batch.py"
   ]
  },
  {
   "cell_type": "code",
   "execution_count": 20,
   "id": "10bc9380-b1ff-4bca-abc4-75a6db0f5dc8",
   "metadata": {},
   "outputs": [],
   "source": [
    "    sites = pd.read_csv('sites.csv')\n",
    "    total_sites = len(sites)"
   ]
  },
  {
   "cell_type": "code",
   "execution_count": 21,
   "id": "e65d3abd-022f-4476-8607-102b9c32949b",
   "metadata": {
    "scrolled": true
   },
   "outputs": [
    {
     "data": {
      "text/plain": [
       "44"
      ]
     },
     "execution_count": 21,
     "metadata": {},
     "output_type": "execute_result"
    }
   ],
   "source": [
    "total_sites"
   ]
  },
  {
   "cell_type": "code",
   "execution_count": 22,
   "id": "856057f5-4b41-44e3-84a3-f7136ccf6f2c",
   "metadata": {},
   "outputs": [],
   "source": [
    "batch_size = 5"
   ]
  },
  {
   "cell_type": "code",
   "execution_count": 27,
   "id": "f9f9a616-3416-4895-883b-66ff9db08791",
   "metadata": {},
   "outputs": [
    {
     "name": "stdout",
     "output_type": "stream",
     "text": [
      "0\n",
      "5\n",
      "10\n",
      "15\n",
      "20\n",
      "25\n",
      "30\n",
      "35\n",
      "40\n"
     ]
    }
   ],
   "source": [
    "for i in range(0, total_sites, 5):\n",
    "    print(i)\n",
    "    end_index = min(i + batch_size - 1, total_sites - 1)"
   ]
  },
  {
   "cell_type": "code",
   "execution_count": 7,
   "id": "3fba0e79-c268-49ef-a104-a1491f5ddde6",
   "metadata": {},
   "outputs": [
    {
     "data": {
      "text/plain": [
       "230"
      ]
     },
     "execution_count": 7,
     "metadata": {},
     "output_type": "execute_result"
    }
   ],
   "source": [
    "end_index"
   ]
  },
  {
   "cell_type": "code",
   "execution_count": 2,
   "id": "175eba16-fa54-44dd-bbe0-c7cb0f0277c8",
   "metadata": {},
   "outputs": [
    {
     "name": "stdout",
     "output_type": "stream",
     "text": [
      "Defaulting to user installation because normal site-packages is not writeable\n",
      "Requirement already satisfied: cdsapi in /home/tbellagio/.local/lib/python3.11/site-packages (0.7.0)\n",
      "Requirement already satisfied: cads-api-client>=0.9.2 in /home/tbellagio/.local/lib/python3.11/site-packages (from cdsapi) (0.10.0)\n",
      "Requirement already satisfied: requests>=2.5.0 in /carnegie/hpcdata/software/conda/envs/python-3.11/lib/python3.11/site-packages (from cdsapi) (2.31.0)\n",
      "Requirement already satisfied: tqdm in /carnegie/hpcdata/software/conda/envs/python-3.11/lib/python3.11/site-packages (from cdsapi) (4.66.2)\n",
      "Requirement already satisfied: attrs in /carnegie/hpcdata/software/conda/envs/python-3.11/lib/python3.11/site-packages (from cads-api-client>=0.9.2->cdsapi) (23.1.0)\n",
      "Requirement already satisfied: multiurl in /home/tbellagio/.local/lib/python3.11/site-packages (from cads-api-client>=0.9.2->cdsapi) (0.3.1)\n",
      "Requirement already satisfied: typing-extensions in /carnegie/hpcdata/software/conda/envs/python-3.11/lib/python3.11/site-packages (from cads-api-client>=0.9.2->cdsapi) (4.6.3)\n",
      "Requirement already satisfied: charset-normalizer<4,>=2 in /carnegie/hpcdata/software/conda/envs/python-3.11/lib/python3.11/site-packages (from requests>=2.5.0->cdsapi) (3.1.0)\n",
      "Requirement already satisfied: idna<4,>=2.5 in /carnegie/hpcdata/software/conda/envs/python-3.11/lib/python3.11/site-packages (from requests>=2.5.0->cdsapi) (3.4)\n",
      "Requirement already satisfied: urllib3<3,>=1.21.1 in /carnegie/hpcdata/software/conda/envs/python-3.11/lib/python3.11/site-packages (from requests>=2.5.0->cdsapi) (2.0.3)\n",
      "Requirement already satisfied: certifi>=2017.4.17 in /carnegie/hpcdata/software/conda/envs/python-3.11/lib/python3.11/site-packages (from requests>=2.5.0->cdsapi) (2024.2.2)\n",
      "Requirement already satisfied: pytz in /carnegie/hpcdata/software/conda/envs/python-3.11/lib/python3.11/site-packages (from multiurl->cads-api-client>=0.9.2->cdsapi) (2023.3)\n",
      "Requirement already satisfied: python-dateutil in /carnegie/hpcdata/software/conda/envs/python-3.11/lib/python3.11/site-packages (from multiurl->cads-api-client>=0.9.2->cdsapi) (2.8.2)\n",
      "Requirement already satisfied: six>=1.5 in /carnegie/hpcdata/software/conda/envs/python-3.11/lib/python3.11/site-packages (from python-dateutil->multiurl->cads-api-client>=0.9.2->cdsapi) (1.16.0)\n"
     ]
    }
   ],
   "source": [
    "!pip3 install cdsapi"
   ]
  },
  {
   "cell_type": "code",
   "execution_count": 1,
   "id": "f0b0b373-6939-4688-8f46-dcc1bd170122",
   "metadata": {},
   "outputs": [],
   "source": [
    "# file: retrieve_and_process_data_sites.py\n",
    "import cdsapi\n",
    "import xarray as xr\n",
    "import pandas as pd\n",
    "import sys"
   ]
  },
  {
   "cell_type": "code",
   "execution_count": null,
   "id": "beb06b8a-41c8-41d0-8388-4ed1cefb34ff",
   "metadata": {},
   "outputs": [],
   "source": [
    "def process_data(filename):\n",
    "    ds = xr.open_dataset(filename)\n",
    "    df = ds.to_dataframe()\n",
    "    monthly_min_temp = df['t2m'].min()\n",
    "    monthly_max_temp = df['t2m'].max()\n",
    "    total_prec = df['tp'].sum()\n",
    "    return total_prec, monthly_min_temp, monthly_max_temp"
   ]
  },
  {
   "cell_type": "code",
   "execution_count": null,
   "id": "d9f0227d-7192-43b3-854a-adf3acbc2996",
   "metadata": {},
   "outputs": [],
   "source": []
  },
  {
   "cell_type": "code",
   "execution_count": null,
   "id": "ab1a0b8f-a8cc-44fc-a5c2-98b842e03e08",
   "metadata": {},
   "outputs": [],
   "source": []
  },
  {
   "cell_type": "code",
   "execution_count": 6,
   "id": "ee0a97f4-f73c-42ce-b759-8c69904ab4f9",
   "metadata": {},
   "outputs": [],
   "source": [
    "locations_df = pd.read_csv('sites.csv')\n"
   ]
  },
  {
   "cell_type": "code",
   "execution_count": 4,
   "id": "123a44d4-f36a-4e8c-8b0d-1e1372143fa8",
   "metadata": {},
   "outputs": [],
   "source": [
    "locations = locations_df.sample(1)"
   ]
  },
  {
   "cell_type": "code",
   "execution_count": 5,
   "id": "16076b3b-7e1f-4af0-ba03-7acb4354a06e",
   "metadata": {
    "scrolled": true
   },
   "outputs": [
    {
     "data": {
      "text/html": [
       "<div>\n",
       "<style scoped>\n",
       "    .dataframe tbody tr th:only-of-type {\n",
       "        vertical-align: middle;\n",
       "    }\n",
       "\n",
       "    .dataframe tbody tr th {\n",
       "        vertical-align: top;\n",
       "    }\n",
       "\n",
       "    .dataframe thead th {\n",
       "        text-align: right;\n",
       "    }\n",
       "</style>\n",
       "<table border=\"1\" class=\"dataframe\">\n",
       "  <thead>\n",
       "    <tr style=\"text-align: right;\">\n",
       "      <th></th>\n",
       "      <th>Unnamed: 0</th>\n",
       "      <th>site</th>\n",
       "      <th>longitude</th>\n",
       "      <th>latitude</th>\n",
       "    </tr>\n",
       "  </thead>\n",
       "  <tbody>\n",
       "    <tr>\n",
       "      <th>36</th>\n",
       "      <td>36</td>\n",
       "      <td>52</td>\n",
       "      <td>11.87735</td>\n",
       "      <td>51.391832</td>\n",
       "    </tr>\n",
       "  </tbody>\n",
       "</table>\n",
       "</div>"
      ],
      "text/plain": [
       "    Unnamed: 0  site  longitude   latitude\n",
       "36          36    52   11.87735  51.391832"
      ]
     },
     "execution_count": 5,
     "metadata": {},
     "output_type": "execute_result"
    }
   ],
   "source": [
    "locations"
   ]
  },
  {
   "cell_type": "code",
   "execution_count": 9,
   "id": "18035b79-85a4-4716-a672-6b80f6557c4d",
   "metadata": {},
   "outputs": [],
   "source": [
    "years = [2018,2019]\n",
    "months = ['01', '02'] # '03', '04', '05', '06', '07', '08', '09', '10', '11', '12']\n",
    "days = ['01']#[str(i).zfill(2) for i in range(1, 32)]\n",
    "times = ['00:00','01:00'] #[f'{str(i).zfill(2)}:00' for i in range(24)]"
   ]
  },
  {
   "cell_type": "code",
   "execution_count": 11,
   "id": "7dfcdd29-5f2e-43c5-875a-4a4385beab7a",
   "metadata": {},
   "outputs": [
    {
     "name": "stderr",
     "output_type": "stream",
     "text": [
      "2024-04-30 10:18:07,263 INFO Welcome to the CDS\n",
      "2024-04-30 10:18:07,264 INFO Sending request to https://cds.climate.copernicus.eu/api/v2/resources/reanalysis-era5-land\n",
      "2024-04-30 10:18:07,456 INFO Request is queued\n",
      "2024-04-30 10:18:08,630 INFO Request is running\n",
      "2024-04-30 10:18:21,510 INFO Request is completed\n",
      "2024-04-30 10:18:21,511 INFO Downloading https://download-0003-clone.copernicus-climate.eu/cache-compute-0003/cache/data7/adaptor.mars.internal-1714497496.3108418-7240-1-56d255b0-0424-4fa5-bb93-e844c0f561ca.nc to era5_site_52.0.nc (1.3K)\n",
      "2024-04-30 10:18:22,410 INFO Download rate 1.5K/s\n"
     ]
    }
   ],
   "source": [
    "cds = cdsapi.Client(url=\"https://cds.climate.copernicus.eu/api/v2\", key=\"302936:8b7b60c7-5f8b-426b-b0aa-343852ff87c9\")\n",
    "results = {}  # List to store results\n",
    "for index, row in locations.iterrows():\n",
    "    lat, lon, site = row['latitude'], row['longitude'], row['site']\n",
    "    area = [lat, lon, lat, lon]  # Small bounding box around each point\n",
    "    filename = f'era5_site_{site}.nc'\n",
    "    cds.retrieve(\n",
    "        'reanalysis-era5-land', ## land so its 9 km grid \n",
    "        {\n",
    "            'product_type': 'reanalysis',\n",
    "            'variable': ['total_precipitation', '2m_temperature'],\n",
    "            'year': years,\n",
    "            'month': months,\n",
    "            'day': days, \n",
    "            'time': days,\n",
    "            'area': area,\n",
    "            'format': 'netcdf'\n",
    "        },\n",
    "        filename)"
   ]
  },
  {
   "cell_type": "code",
   "execution_count": null,
   "id": "4e308a89-a13c-46d7-bab9-4abc460c0732",
   "metadata": {},
   "outputs": [],
   "source": [
    "era5_site_52.0.nc"
   ]
  },
  {
   "cell_type": "code",
   "execution_count": 33,
   "id": "c5c9773a-cfa1-4896-8d1a-26b38116d6da",
   "metadata": {},
   "outputs": [],
   "source": [
    "ds = xr.open_dataset('adaptor.mars.internal-1714499872.3455765-11785-9-73f10a1a-ba32-4300-a4e6-628ee8109514.nc')\n",
    "df = ds.to_dataframe()"
   ]
  },
  {
   "cell_type": "code",
   "execution_count": 34,
   "id": "8e6132b8-a3b0-4962-b818-4e9dfd6a59bc",
   "metadata": {},
   "outputs": [
    {
     "data": {
      "text/html": [
       "<div>\n",
       "<style scoped>\n",
       "    .dataframe tbody tr th:only-of-type {\n",
       "        vertical-align: middle;\n",
       "    }\n",
       "\n",
       "    .dataframe tbody tr th {\n",
       "        vertical-align: top;\n",
       "    }\n",
       "\n",
       "    .dataframe thead th {\n",
       "        text-align: right;\n",
       "    }\n",
       "</style>\n",
       "<table border=\"1\" class=\"dataframe\">\n",
       "  <thead>\n",
       "    <tr style=\"text-align: right;\">\n",
       "      <th></th>\n",
       "      <th></th>\n",
       "      <th></th>\n",
       "      <th>tp</th>\n",
       "    </tr>\n",
       "    <tr>\n",
       "      <th>longitude</th>\n",
       "      <th>latitude</th>\n",
       "      <th>time</th>\n",
       "      <th></th>\n",
       "    </tr>\n",
       "  </thead>\n",
       "  <tbody>\n",
       "    <tr>\n",
       "      <th rowspan=\"11\" valign=\"top\">-93.226997</th>\n",
       "      <th rowspan=\"11\" valign=\"top\">44.973</th>\n",
       "      <th>2018-01-01 00:00:00</th>\n",
       "      <td>0.000087</td>\n",
       "    </tr>\n",
       "    <tr>\n",
       "      <th>2018-01-01 01:00:00</th>\n",
       "      <td>0.000000</td>\n",
       "    </tr>\n",
       "    <tr>\n",
       "      <th>2018-01-01 02:00:00</th>\n",
       "      <td>0.000000</td>\n",
       "    </tr>\n",
       "    <tr>\n",
       "      <th>2018-01-01 03:00:00</th>\n",
       "      <td>0.000000</td>\n",
       "    </tr>\n",
       "    <tr>\n",
       "      <th>2018-01-01 04:00:00</th>\n",
       "      <td>0.000000</td>\n",
       "    </tr>\n",
       "    <tr>\n",
       "      <th>...</th>\n",
       "      <td>...</td>\n",
       "    </tr>\n",
       "    <tr>\n",
       "      <th>2018-12-31 19:00:00</th>\n",
       "      <td>0.000147</td>\n",
       "    </tr>\n",
       "    <tr>\n",
       "      <th>2018-12-31 20:00:00</th>\n",
       "      <td>0.000325</td>\n",
       "    </tr>\n",
       "    <tr>\n",
       "      <th>2018-12-31 21:00:00</th>\n",
       "      <td>0.000608</td>\n",
       "    </tr>\n",
       "    <tr>\n",
       "      <th>2018-12-31 22:00:00</th>\n",
       "      <td>0.000859</td>\n",
       "    </tr>\n",
       "    <tr>\n",
       "      <th>2018-12-31 23:00:00</th>\n",
       "      <td>0.001049</td>\n",
       "    </tr>\n",
       "  </tbody>\n",
       "</table>\n",
       "<p>8760 rows × 1 columns</p>\n",
       "</div>"
      ],
      "text/plain": [
       "                                               tp\n",
       "longitude  latitude time                         \n",
       "-93.226997 44.973   2018-01-01 00:00:00  0.000087\n",
       "                    2018-01-01 01:00:00  0.000000\n",
       "                    2018-01-01 02:00:00  0.000000\n",
       "                    2018-01-01 03:00:00  0.000000\n",
       "                    2018-01-01 04:00:00  0.000000\n",
       "...                                           ...\n",
       "                    2018-12-31 19:00:00  0.000147\n",
       "                    2018-12-31 20:00:00  0.000325\n",
       "                    2018-12-31 21:00:00  0.000608\n",
       "                    2018-12-31 22:00:00  0.000859\n",
       "                    2018-12-31 23:00:00  0.001049\n",
       "\n",
       "[8760 rows x 1 columns]"
      ]
     },
     "execution_count": 34,
     "metadata": {},
     "output_type": "execute_result"
    }
   ],
   "source": [
    "df"
   ]
  },
  {
   "cell_type": "code",
   "execution_count": 19,
   "id": "740a4436-fb63-4d92-ac28-86c5a7a9ed18",
   "metadata": {},
   "outputs": [
    {
     "data": {
      "text/plain": [
       "0   2018-01-01 01:00:00\n",
       "1   2018-02-01 01:00:00\n",
       "2   2019-01-01 01:00:00\n",
       "3   2019-02-01 01:00:00\n",
       "Name: time, dtype: datetime64[ns]"
      ]
     },
     "execution_count": 19,
     "metadata": {},
     "output_type": "execute_result"
    }
   ],
   "source": [
    "df.reset_index()['time']"
   ]
  },
  {
   "cell_type": "code",
   "execution_count": null,
   "id": "9eab18f2-be07-4be2-aac9-65c978672286",
   "metadata": {},
   "outputs": [],
   "source": []
  },
  {
   "cell_type": "code",
   "execution_count": null,
   "id": "eb8372f8-09fa-4adb-8255-63547f9831d7",
   "metadata": {},
   "outputs": [],
   "source": [
    "monthly_min_temp = df['t2m'].min()\n",
    "monthly_max_temp = df['t2m'].max()\n",
    "total_prec = df['tp'].sum()\n",
    "return total_prec, monthly_min_temp, monthly_max_temp"
   ]
  },
  {
   "cell_type": "code",
   "execution_count": null,
   "id": "8c35f52f-d5c0-407d-8a50-05efe2d3c8fa",
   "metadata": {},
   "outputs": [],
   "source": []
  },
  {
   "cell_type": "code",
   "execution_count": null,
   "id": "8ed2bfa6-dc8c-4991-a6e8-cdff1c1d9a8f",
   "metadata": {},
   "outputs": [],
   "source": []
  },
  {
   "cell_type": "code",
   "execution_count": null,
   "id": "af4985c2-2e51-4d08-bde3-227fbf7c2b62",
   "metadata": {},
   "outputs": [],
   "source": []
  },
  {
   "cell_type": "code",
   "execution_count": null,
   "id": "e58720d5-c841-467c-94b4-a339cbd15ef1",
   "metadata": {},
   "outputs": [],
   "source": []
  }
 ],
 "metadata": {
  "kernelspec": {
   "display_name": "Python (pipeline_snakemake)",
   "language": "python",
   "name": "pipeline_snakemake"
  },
  "language_info": {
   "codemirror_mode": {
    "name": "ipython",
    "version": 3
   },
   "file_extension": ".py",
   "mimetype": "text/x-python",
   "name": "python",
   "nbconvert_exporter": "python",
   "pygments_lexer": "ipython3",
   "version": "3.9.16"
  }
 },
 "nbformat": 4,
 "nbformat_minor": 5
}
